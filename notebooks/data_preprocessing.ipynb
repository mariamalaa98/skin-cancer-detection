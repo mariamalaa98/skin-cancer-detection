{
 "cells": [
  {
   "cell_type": "code",
   "execution_count": 4,
   "outputs": [],
   "source": [
    "import os.path\n",
    "\n",
    "#from IPython.display import display\n",
    "import  pandas as pd\n",
    "from collections import Counter\n",
    "#from src.dataset import MelanomaDataset,data_preprocessing,Normalize\n",
    "from sklearn.model_selection import train_test_split\n",
    "import shutil\n",
    "from torchvision import models, transforms\n",
    "import os"
   ],
   "metadata": {
    "collapsed": false,
    "pycharm": {
     "name": "#%%\n"
    }
   }
  },
  {
   "cell_type": "code",
   "execution_count": 3,
   "outputs": [],
   "source": [
    "\n",
    "def copyfile_to_dir(fpath, dirPath):\n",
    "    shutil.copyfile(fpath, dirPath + '/' + fpath.split('/')[-1])"
   ],
   "metadata": {
    "collapsed": false,
    "pycharm": {
     "name": "#%%\n"
    }
   }
  },
  {
   "cell_type": "code",
   "execution_count": 5,
   "outputs": [
    {
     "name": "stdout",
     "output_type": "stream",
     "text": [
      "nn..gg..mm\n"
     ]
    }
   ],
   "source": [
    "print(\"nn..gg..mm\")"
   ],
   "metadata": {
    "collapsed": false,
    "pycharm": {
     "name": "#%%\n"
    }
   }
  },
  {
   "cell_type": "code",
   "execution_count": 4,
   "outputs": [],
   "source": [
    "raw_data_csv_path=\"../dataset/HAM10000_metadata.csv\"\n",
    "ham_img_dataset_path=\"../dataset/preprocessed/ham1000\""
   ],
   "metadata": {
    "collapsed": false,
    "pycharm": {
     "name": "#%%\n"
    }
   }
  },
  {
   "cell_type": "code",
   "execution_count": 5,
   "outputs": [],
   "source": [
    "raw_data=pd.read_csv(raw_data_csv_path)\n"
   ],
   "metadata": {
    "collapsed": false,
    "pycharm": {
     "name": "#%%\n"
    }
   }
  },
  {
   "cell_type": "code",
   "execution_count": 6,
   "outputs": [
    {
     "data": {
      "text/plain": "     lesion_id      image_id   dx dx_type   age   sex localization  \\\n0  HAM_0000118  ISIC_0027419  bkl   histo  80.0  male        scalp   \n1  HAM_0000118  ISIC_0025030  bkl   histo  80.0  male        scalp   \n2  HAM_0002730  ISIC_0026769  bkl   histo  80.0  male        scalp   \n3  HAM_0002730  ISIC_0025661  bkl   histo  80.0  male        scalp   \n4  HAM_0001466  ISIC_0031633  bkl   histo  75.0  male          ear   \n\n        dataset  \n0  vidir_modern  \n1  vidir_modern  \n2  vidir_modern  \n3  vidir_modern  \n4  vidir_modern  ",
      "text/html": "<div>\n<style scoped>\n    .dataframe tbody tr th:only-of-type {\n        vertical-align: middle;\n    }\n\n    .dataframe tbody tr th {\n        vertical-align: top;\n    }\n\n    .dataframe thead th {\n        text-align: right;\n    }\n</style>\n<table border=\"1\" class=\"dataframe\">\n  <thead>\n    <tr style=\"text-align: right;\">\n      <th></th>\n      <th>lesion_id</th>\n      <th>image_id</th>\n      <th>dx</th>\n      <th>dx_type</th>\n      <th>age</th>\n      <th>sex</th>\n      <th>localization</th>\n      <th>dataset</th>\n    </tr>\n  </thead>\n  <tbody>\n    <tr>\n      <th>0</th>\n      <td>HAM_0000118</td>\n      <td>ISIC_0027419</td>\n      <td>bkl</td>\n      <td>histo</td>\n      <td>80.0</td>\n      <td>male</td>\n      <td>scalp</td>\n      <td>vidir_modern</td>\n    </tr>\n    <tr>\n      <th>1</th>\n      <td>HAM_0000118</td>\n      <td>ISIC_0025030</td>\n      <td>bkl</td>\n      <td>histo</td>\n      <td>80.0</td>\n      <td>male</td>\n      <td>scalp</td>\n      <td>vidir_modern</td>\n    </tr>\n    <tr>\n      <th>2</th>\n      <td>HAM_0002730</td>\n      <td>ISIC_0026769</td>\n      <td>bkl</td>\n      <td>histo</td>\n      <td>80.0</td>\n      <td>male</td>\n      <td>scalp</td>\n      <td>vidir_modern</td>\n    </tr>\n    <tr>\n      <th>3</th>\n      <td>HAM_0002730</td>\n      <td>ISIC_0025661</td>\n      <td>bkl</td>\n      <td>histo</td>\n      <td>80.0</td>\n      <td>male</td>\n      <td>scalp</td>\n      <td>vidir_modern</td>\n    </tr>\n    <tr>\n      <th>4</th>\n      <td>HAM_0001466</td>\n      <td>ISIC_0031633</td>\n      <td>bkl</td>\n      <td>histo</td>\n      <td>75.0</td>\n      <td>male</td>\n      <td>ear</td>\n      <td>vidir_modern</td>\n    </tr>\n  </tbody>\n</table>\n</div>"
     },
     "execution_count": 6,
     "metadata": {},
     "output_type": "execute_result"
    }
   ],
   "source": [
    "raw_data.head()"
   ],
   "metadata": {
    "collapsed": false,
    "pycharm": {
     "name": "#%%\n"
    }
   }
  },
  {
   "cell_type": "code",
   "execution_count": 7,
   "outputs": [
    {
     "data": {
      "text/plain": "Index(['lesion_id', 'image_id', 'dx', 'dx_type', 'age', 'sex', 'localization',\n       'dataset'],\n      dtype='object')"
     },
     "execution_count": 7,
     "metadata": {},
     "output_type": "execute_result"
    }
   ],
   "source": [
    "raw_data.columns"
   ],
   "metadata": {
    "collapsed": false,
    "pycharm": {
     "name": "#%%\n"
    }
   }
  },
  {
   "cell_type": "code",
   "execution_count": 8,
   "outputs": [],
   "source": [
    "non_numeric_cols=['sex', 'localization','dx']"
   ],
   "metadata": {
    "collapsed": false,
    "pycharm": {
     "name": "#%%\n"
    }
   }
  },
  {
   "cell_type": "code",
   "execution_count": 9,
   "outputs": [
    {
     "data": {
      "text/plain": "         0     1\n0     male  5406\n1   female  4552\n2  unknown    57",
      "text/html": "<div>\n<style scoped>\n    .dataframe tbody tr th:only-of-type {\n        vertical-align: middle;\n    }\n\n    .dataframe tbody tr th {\n        vertical-align: top;\n    }\n\n    .dataframe thead th {\n        text-align: right;\n    }\n</style>\n<table border=\"1\" class=\"dataframe\">\n  <thead>\n    <tr style=\"text-align: right;\">\n      <th></th>\n      <th>0</th>\n      <th>1</th>\n    </tr>\n  </thead>\n  <tbody>\n    <tr>\n      <th>0</th>\n      <td>male</td>\n      <td>5406</td>\n    </tr>\n    <tr>\n      <th>1</th>\n      <td>female</td>\n      <td>4552</td>\n    </tr>\n    <tr>\n      <th>2</th>\n      <td>unknown</td>\n      <td>57</td>\n    </tr>\n  </tbody>\n</table>\n</div>"
     },
     "metadata": {},
     "output_type": "display_data"
    },
    {
     "data": {
      "text/plain": "                  0     1\n0             scalp   128\n1               ear    56\n2              face   745\n3              back  2192\n4             trunk  1404\n5             chest   407\n6   upper extremity  1118\n7           abdomen  1022\n8           unknown   234\n9   lower extremity  2077\n10          genital    48\n11             neck   168\n12             hand    90\n13             foot   319\n14            acral     7",
      "text/html": "<div>\n<style scoped>\n    .dataframe tbody tr th:only-of-type {\n        vertical-align: middle;\n    }\n\n    .dataframe tbody tr th {\n        vertical-align: top;\n    }\n\n    .dataframe thead th {\n        text-align: right;\n    }\n</style>\n<table border=\"1\" class=\"dataframe\">\n  <thead>\n    <tr style=\"text-align: right;\">\n      <th></th>\n      <th>0</th>\n      <th>1</th>\n    </tr>\n  </thead>\n  <tbody>\n    <tr>\n      <th>0</th>\n      <td>scalp</td>\n      <td>128</td>\n    </tr>\n    <tr>\n      <th>1</th>\n      <td>ear</td>\n      <td>56</td>\n    </tr>\n    <tr>\n      <th>2</th>\n      <td>face</td>\n      <td>745</td>\n    </tr>\n    <tr>\n      <th>3</th>\n      <td>back</td>\n      <td>2192</td>\n    </tr>\n    <tr>\n      <th>4</th>\n      <td>trunk</td>\n      <td>1404</td>\n    </tr>\n    <tr>\n      <th>5</th>\n      <td>chest</td>\n      <td>407</td>\n    </tr>\n    <tr>\n      <th>6</th>\n      <td>upper extremity</td>\n      <td>1118</td>\n    </tr>\n    <tr>\n      <th>7</th>\n      <td>abdomen</td>\n      <td>1022</td>\n    </tr>\n    <tr>\n      <th>8</th>\n      <td>unknown</td>\n      <td>234</td>\n    </tr>\n    <tr>\n      <th>9</th>\n      <td>lower extremity</td>\n      <td>2077</td>\n    </tr>\n    <tr>\n      <th>10</th>\n      <td>genital</td>\n      <td>48</td>\n    </tr>\n    <tr>\n      <th>11</th>\n      <td>neck</td>\n      <td>168</td>\n    </tr>\n    <tr>\n      <th>12</th>\n      <td>hand</td>\n      <td>90</td>\n    </tr>\n    <tr>\n      <th>13</th>\n      <td>foot</td>\n      <td>319</td>\n    </tr>\n    <tr>\n      <th>14</th>\n      <td>acral</td>\n      <td>7</td>\n    </tr>\n  </tbody>\n</table>\n</div>"
     },
     "metadata": {},
     "output_type": "display_data"
    },
    {
     "data": {
      "text/plain": "       0     1\n0    bkl  1099\n1     nv  6705\n2     df   115\n3    mel  1113\n4   vasc   142\n5    bcc   514\n6  akiec   327",
      "text/html": "<div>\n<style scoped>\n    .dataframe tbody tr th:only-of-type {\n        vertical-align: middle;\n    }\n\n    .dataframe tbody tr th {\n        vertical-align: top;\n    }\n\n    .dataframe thead th {\n        text-align: right;\n    }\n</style>\n<table border=\"1\" class=\"dataframe\">\n  <thead>\n    <tr style=\"text-align: right;\">\n      <th></th>\n      <th>0</th>\n      <th>1</th>\n    </tr>\n  </thead>\n  <tbody>\n    <tr>\n      <th>0</th>\n      <td>bkl</td>\n      <td>1099</td>\n    </tr>\n    <tr>\n      <th>1</th>\n      <td>nv</td>\n      <td>6705</td>\n    </tr>\n    <tr>\n      <th>2</th>\n      <td>df</td>\n      <td>115</td>\n    </tr>\n    <tr>\n      <th>3</th>\n      <td>mel</td>\n      <td>1113</td>\n    </tr>\n    <tr>\n      <th>4</th>\n      <td>vasc</td>\n      <td>142</td>\n    </tr>\n    <tr>\n      <th>5</th>\n      <td>bcc</td>\n      <td>514</td>\n    </tr>\n    <tr>\n      <th>6</th>\n      <td>akiec</td>\n      <td>327</td>\n    </tr>\n  </tbody>\n</table>\n</div>"
     },
     "metadata": {},
     "output_type": "display_data"
    }
   ],
   "source": [
    "for col in non_numeric_cols:\n",
    "    display(pd.DataFrame(Counter(raw_data[col]).items()))"
   ],
   "metadata": {
    "collapsed": false,
    "pycharm": {
     "name": "#%%\n"
    }
   }
  },
  {
   "cell_type": "code",
   "execution_count": 3,
   "outputs": [],
   "source": [
    "skin_path=\"../dataset/raw/skin lesion/metadata.csv\""
   ],
   "metadata": {
    "collapsed": false,
    "pycharm": {
     "name": "#%%\n"
    }
   }
  },
  {
   "cell_type": "code",
   "execution_count": 4,
   "outputs": [],
   "source": [
    "skin=pd.read_csv(skin_path)"
   ],
   "metadata": {
    "collapsed": false,
    "pycharm": {
     "name": "#%%\n"
    }
   }
  },
  {
   "cell_type": "code",
   "execution_count": 5,
   "outputs": [
    {
     "data": {
      "text/plain": "       image_id   dx   age     sex     localization\n0  ISIC_0000002  mel  60.0  female  upper extremity\n1  ISIC_0000004  mel  80.0    male  posterior torso\n2  ISIC_0000013  mel  30.0  female  posterior torso\n3  ISIC_0000022  mel  55.0  female  lower extremity\n4  ISIC_0000026  mel  30.0  female  lower extremity",
      "text/html": "<div>\n<style scoped>\n    .dataframe tbody tr th:only-of-type {\n        vertical-align: middle;\n    }\n\n    .dataframe tbody tr th {\n        vertical-align: top;\n    }\n\n    .dataframe thead th {\n        text-align: right;\n    }\n</style>\n<table border=\"1\" class=\"dataframe\">\n  <thead>\n    <tr style=\"text-align: right;\">\n      <th></th>\n      <th>image_id</th>\n      <th>dx</th>\n      <th>age</th>\n      <th>sex</th>\n      <th>localization</th>\n    </tr>\n  </thead>\n  <tbody>\n    <tr>\n      <th>0</th>\n      <td>ISIC_0000002</td>\n      <td>mel</td>\n      <td>60.0</td>\n      <td>female</td>\n      <td>upper extremity</td>\n    </tr>\n    <tr>\n      <th>1</th>\n      <td>ISIC_0000004</td>\n      <td>mel</td>\n      <td>80.0</td>\n      <td>male</td>\n      <td>posterior torso</td>\n    </tr>\n    <tr>\n      <th>2</th>\n      <td>ISIC_0000013</td>\n      <td>mel</td>\n      <td>30.0</td>\n      <td>female</td>\n      <td>posterior torso</td>\n    </tr>\n    <tr>\n      <th>3</th>\n      <td>ISIC_0000022</td>\n      <td>mel</td>\n      <td>55.0</td>\n      <td>female</td>\n      <td>lower extremity</td>\n    </tr>\n    <tr>\n      <th>4</th>\n      <td>ISIC_0000026</td>\n      <td>mel</td>\n      <td>30.0</td>\n      <td>female</td>\n      <td>lower extremity</td>\n    </tr>\n  </tbody>\n</table>\n</div>"
     },
     "execution_count": 5,
     "metadata": {},
     "output_type": "execute_result"
    }
   ],
   "source": [
    "skin.head()"
   ],
   "metadata": {
    "collapsed": false,
    "pycharm": {
     "name": "#%%\n"
    }
   }
  },
  {
   "cell_type": "code",
   "execution_count": 6,
   "outputs": [
    {
     "data": {
      "text/plain": "Counter({'upper extremity': 337,\n         'posterior torso': 33,\n         'lower extremity': 478,\n         'anterior torso': 845,\n         nan: 207,\n         'lateral torso': 4,\n         'head/neck': 1111,\n         'palms/soles': 67,\n         'oral/genital': 19})"
     },
     "execution_count": 6,
     "metadata": {},
     "output_type": "execute_result"
    }
   ],
   "source": [
    "Counter(skin['localization'])"
   ],
   "metadata": {
    "collapsed": false,
    "pycharm": {
     "name": "#%%\n"
    }
   }
  },
  {
   "cell_type": "code",
   "execution_count": 8,
   "outputs": [],
   "source": [
    "skin=skin.dropna()"
   ],
   "metadata": {
    "collapsed": false,
    "pycharm": {
     "name": "#%%\n"
    }
   }
  },
  {
   "cell_type": "code",
   "execution_count": 7,
   "outputs": [],
   "source": [
    "for i in range(len(skin)):\n",
    "    if skin.iloc[i][1] == \"mel\":\n",
    "        skin.at[i, 'dx'] = 1\n",
    "    else:\n",
    "         skin.at[i, 'dx'] = 0"
   ],
   "metadata": {
    "collapsed": false,
    "pycharm": {
     "name": "#%%\n"
    }
   }
  },
  {
   "cell_type": "code",
   "execution_count": 16,
   "outputs": [
    {
     "data": {
      "text/plain": "       image_id dx   age     sex     localization\n0  ISIC_0000002  1  60.0  female  upper extremity\n1  ISIC_0000004  1  80.0    male  posterior torso\n2  ISIC_0000013  1  30.0  female  posterior torso\n3  ISIC_0000022  1  55.0  female  lower extremity\n4  ISIC_0000026  1  30.0  female  lower extremity",
      "text/html": "<div>\n<style scoped>\n    .dataframe tbody tr th:only-of-type {\n        vertical-align: middle;\n    }\n\n    .dataframe tbody tr th {\n        vertical-align: top;\n    }\n\n    .dataframe thead th {\n        text-align: right;\n    }\n</style>\n<table border=\"1\" class=\"dataframe\">\n  <thead>\n    <tr style=\"text-align: right;\">\n      <th></th>\n      <th>image_id</th>\n      <th>dx</th>\n      <th>age</th>\n      <th>sex</th>\n      <th>localization</th>\n    </tr>\n  </thead>\n  <tbody>\n    <tr>\n      <th>0</th>\n      <td>ISIC_0000002</td>\n      <td>1</td>\n      <td>60.0</td>\n      <td>female</td>\n      <td>upper extremity</td>\n    </tr>\n    <tr>\n      <th>1</th>\n      <td>ISIC_0000004</td>\n      <td>1</td>\n      <td>80.0</td>\n      <td>male</td>\n      <td>posterior torso</td>\n    </tr>\n    <tr>\n      <th>2</th>\n      <td>ISIC_0000013</td>\n      <td>1</td>\n      <td>30.0</td>\n      <td>female</td>\n      <td>posterior torso</td>\n    </tr>\n    <tr>\n      <th>3</th>\n      <td>ISIC_0000022</td>\n      <td>1</td>\n      <td>55.0</td>\n      <td>female</td>\n      <td>lower extremity</td>\n    </tr>\n    <tr>\n      <th>4</th>\n      <td>ISIC_0000026</td>\n      <td>1</td>\n      <td>30.0</td>\n      <td>female</td>\n      <td>lower extremity</td>\n    </tr>\n  </tbody>\n</table>\n</div>"
     },
     "execution_count": 16,
     "metadata": {},
     "output_type": "execute_result"
    }
   ],
   "source": [
    "skin.head()"
   ],
   "metadata": {
    "collapsed": false,
    "pycharm": {
     "name": "#%%\n"
    }
   }
  },
  {
   "cell_type": "code",
   "execution_count": 9,
   "outputs": [
    {
     "data": {
      "text/plain": "Counter({1: 813, 0: 2049})"
     },
     "execution_count": 9,
     "metadata": {},
     "output_type": "execute_result"
    }
   ],
   "source": [
    "Counter(skin['dx'])"
   ],
   "metadata": {
    "collapsed": false,
    "pycharm": {
     "name": "#%%\n"
    }
   }
  },
  {
   "cell_type": "code",
   "execution_count": 10,
   "outputs": [],
   "source": [
    "skin.to_csv(\"../dataset/raw/newfile2.csv\")"
   ],
   "metadata": {
    "collapsed": false,
    "pycharm": {
     "name": "#%%\n"
    }
   }
  },
  {
   "cell_type": "code",
   "execution_count": 28,
   "outputs": [
    {
     "ename": "AttributeError",
     "evalue": "'DataFrame' object has no attribute 'col'",
     "output_type": "error",
     "traceback": [
      "\u001B[1;31m---------------------------------------------------------------------------\u001B[0m",
      "\u001B[1;31mAttributeError\u001B[0m                            Traceback (most recent call last)",
      "Input \u001B[1;32mIn [28]\u001B[0m, in \u001B[0;36m<cell line: 3>\u001B[1;34m()\u001B[0m\n\u001B[0;32m      1\u001B[0m dummy_cols \u001B[38;5;241m=\u001B[39m [\u001B[38;5;124m'\u001B[39m\u001B[38;5;124mlocalization\u001B[39m\u001B[38;5;124m'\u001B[39m, \u001B[38;5;124m'\u001B[39m\u001B[38;5;124msex\u001B[39m\u001B[38;5;124m'\u001B[39m]\n\u001B[0;32m      3\u001B[0m \u001B[38;5;28;01mfor\u001B[39;00m col \u001B[38;5;129;01min\u001B[39;00m dummy_cols:\n\u001B[1;32m----> 4\u001B[0m     dummy \u001B[38;5;241m=\u001B[39m pd\u001B[38;5;241m.\u001B[39mget_dummies(\u001B[43mskin\u001B[49m\u001B[38;5;241;43m.\u001B[39;49m\u001B[43mcol\u001B[49m, prefix\u001B[38;5;241m=\u001B[39mcol, drop_first\u001B[38;5;241m=\u001B[39m\u001B[38;5;28;01mFalse\u001B[39;00m)\n\u001B[0;32m      5\u001B[0m     skin \u001B[38;5;241m=\u001B[39m pd\u001B[38;5;241m.\u001B[39mconcat([skin, dummy], axis\u001B[38;5;241m=\u001B[39m\u001B[38;5;241m1\u001B[39m)\n\u001B[0;32m      7\u001B[0m skin\u001B[38;5;241m.\u001B[39mdrop(dummy_cols, axis\u001B[38;5;241m=\u001B[39m\u001B[38;5;241m1\u001B[39m, inplace\u001B[38;5;241m=\u001B[39m\u001B[38;5;28;01mTrue\u001B[39;00m)\n",
      "File \u001B[1;32me:\\flowers\\venv\\lib\\site-packages\\pandas\\core\\generic.py:5575\u001B[0m, in \u001B[0;36mNDFrame.__getattr__\u001B[1;34m(self, name)\u001B[0m\n\u001B[0;32m   5568\u001B[0m \u001B[38;5;28;01mif\u001B[39;00m (\n\u001B[0;32m   5569\u001B[0m     name \u001B[38;5;129;01mnot\u001B[39;00m \u001B[38;5;129;01min\u001B[39;00m \u001B[38;5;28mself\u001B[39m\u001B[38;5;241m.\u001B[39m_internal_names_set\n\u001B[0;32m   5570\u001B[0m     \u001B[38;5;129;01mand\u001B[39;00m name \u001B[38;5;129;01mnot\u001B[39;00m \u001B[38;5;129;01min\u001B[39;00m \u001B[38;5;28mself\u001B[39m\u001B[38;5;241m.\u001B[39m_metadata\n\u001B[0;32m   5571\u001B[0m     \u001B[38;5;129;01mand\u001B[39;00m name \u001B[38;5;129;01mnot\u001B[39;00m \u001B[38;5;129;01min\u001B[39;00m \u001B[38;5;28mself\u001B[39m\u001B[38;5;241m.\u001B[39m_accessors\n\u001B[0;32m   5572\u001B[0m     \u001B[38;5;129;01mand\u001B[39;00m \u001B[38;5;28mself\u001B[39m\u001B[38;5;241m.\u001B[39m_info_axis\u001B[38;5;241m.\u001B[39m_can_hold_identifiers_and_holds_name(name)\n\u001B[0;32m   5573\u001B[0m ):\n\u001B[0;32m   5574\u001B[0m     \u001B[38;5;28;01mreturn\u001B[39;00m \u001B[38;5;28mself\u001B[39m[name]\n\u001B[1;32m-> 5575\u001B[0m \u001B[38;5;28;01mreturn\u001B[39;00m \u001B[38;5;28;43mobject\u001B[39;49m\u001B[38;5;241;43m.\u001B[39;49m\u001B[38;5;21;43m__getattribute__\u001B[39;49m\u001B[43m(\u001B[49m\u001B[38;5;28;43mself\u001B[39;49m\u001B[43m,\u001B[49m\u001B[43m \u001B[49m\u001B[43mname\u001B[49m\u001B[43m)\u001B[49m\n",
      "\u001B[1;31mAttributeError\u001B[0m: 'DataFrame' object has no attribute 'col'"
     ]
    }
   ],
   "source": [
    "dummy_cols = ['localization', 'sex']\n",
    "\n",
    "for col in dummy_cols:\n",
    "    dummy = pd.get_dummies(skin[col], prefix=col, drop_first=False)\n",
    "    skin = pd.concat([skin, dummy], axis=1)\n",
    "\n",
    "skin.drop(dummy_cols, axis=1, inplace=True)"
   ],
   "metadata": {
    "collapsed": false,
    "pycharm": {
     "name": "#%%\n"
    }
   }
  },
  {
   "cell_type": "code",
   "execution_count": 5,
   "outputs": [],
   "source": [
    "raw_data_csv_path=\"../dataset/HAM10000_metadata.csv\"\n",
    "ham_data=pd.read_csv(raw_data_csv_path)"
   ],
   "metadata": {
    "collapsed": false,
    "pycharm": {
     "name": "#%%\n"
    }
   }
  },
  {
   "cell_type": "markdown",
   "source": [],
   "metadata": {
    "collapsed": false,
    "pycharm": {
     "name": "#%% md\n"
    }
   }
  },
  {
   "cell_type": "code",
   "execution_count": 6,
   "outputs": [
    {
     "data": {
      "text/plain": "     lesion_id      image_id   dx dx_type   age   sex localization  \\\n0  HAM_0000118  ISIC_0027419  bkl   histo  80.0  male        scalp   \n1  HAM_0000118  ISIC_0025030  bkl   histo  80.0  male        scalp   \n2  HAM_0002730  ISIC_0026769  bkl   histo  80.0  male        scalp   \n3  HAM_0002730  ISIC_0025661  bkl   histo  80.0  male        scalp   \n4  HAM_0001466  ISIC_0031633  bkl   histo  75.0  male          ear   \n\n        dataset  \n0  vidir_modern  \n1  vidir_modern  \n2  vidir_modern  \n3  vidir_modern  \n4  vidir_modern  ",
      "text/html": "<div>\n<style scoped>\n    .dataframe tbody tr th:only-of-type {\n        vertical-align: middle;\n    }\n\n    .dataframe tbody tr th {\n        vertical-align: top;\n    }\n\n    .dataframe thead th {\n        text-align: right;\n    }\n</style>\n<table border=\"1\" class=\"dataframe\">\n  <thead>\n    <tr style=\"text-align: right;\">\n      <th></th>\n      <th>lesion_id</th>\n      <th>image_id</th>\n      <th>dx</th>\n      <th>dx_type</th>\n      <th>age</th>\n      <th>sex</th>\n      <th>localization</th>\n      <th>dataset</th>\n    </tr>\n  </thead>\n  <tbody>\n    <tr>\n      <th>0</th>\n      <td>HAM_0000118</td>\n      <td>ISIC_0027419</td>\n      <td>bkl</td>\n      <td>histo</td>\n      <td>80.0</td>\n      <td>male</td>\n      <td>scalp</td>\n      <td>vidir_modern</td>\n    </tr>\n    <tr>\n      <th>1</th>\n      <td>HAM_0000118</td>\n      <td>ISIC_0025030</td>\n      <td>bkl</td>\n      <td>histo</td>\n      <td>80.0</td>\n      <td>male</td>\n      <td>scalp</td>\n      <td>vidir_modern</td>\n    </tr>\n    <tr>\n      <th>2</th>\n      <td>HAM_0002730</td>\n      <td>ISIC_0026769</td>\n      <td>bkl</td>\n      <td>histo</td>\n      <td>80.0</td>\n      <td>male</td>\n      <td>scalp</td>\n      <td>vidir_modern</td>\n    </tr>\n    <tr>\n      <th>3</th>\n      <td>HAM_0002730</td>\n      <td>ISIC_0025661</td>\n      <td>bkl</td>\n      <td>histo</td>\n      <td>80.0</td>\n      <td>male</td>\n      <td>scalp</td>\n      <td>vidir_modern</td>\n    </tr>\n    <tr>\n      <th>4</th>\n      <td>HAM_0001466</td>\n      <td>ISIC_0031633</td>\n      <td>bkl</td>\n      <td>histo</td>\n      <td>75.0</td>\n      <td>male</td>\n      <td>ear</td>\n      <td>vidir_modern</td>\n    </tr>\n  </tbody>\n</table>\n</div>"
     },
     "execution_count": 6,
     "metadata": {},
     "output_type": "execute_result"
    }
   ],
   "source": [
    "ham_data.head()"
   ],
   "metadata": {
    "collapsed": false,
    "pycharm": {
     "name": "#%%\n"
    }
   }
  },
  {
   "cell_type": "code",
   "execution_count": 9,
   "outputs": [],
   "source": [
    "del ham_data['lesion_id']\n",
    "del ham_data['dx_type']\n",
    "del ham_data['dataset']"
   ],
   "metadata": {
    "collapsed": false,
    "pycharm": {
     "name": "#%%\n"
    }
   }
  },
  {
   "cell_type": "code",
   "execution_count": 10,
   "outputs": [],
   "source": [
    "for i in range(ham_data.shape[0]):\n",
    "        if ham_data.iloc[i][1] == \"mel\":\n",
    "            ham_data.at[i, 'dx'] = 1\n",
    "        else:\n",
    "            ham_data.at[i, 'dx'] = 0"
   ],
   "metadata": {
    "collapsed": false,
    "pycharm": {
     "name": "#%%\n"
    }
   }
  },
  {
   "cell_type": "code",
   "execution_count": 13,
   "outputs": [],
   "source": [
    "idx_to_remove = set()\n",
    "for i in range(len(ham_data)):\n",
    "\n",
    "    if ham_data.iloc[i][3] == \"unknown\":\n",
    "     idx_to_remove.add(i)\n",
    "\n",
    "for i in range(len(ham_data)):\n",
    "    if ham_data.iloc[i][4] == \"unknown\":\n",
    "        idx_to_remove.add(i)\n",
    "ham_data = ham_data.drop(index=list(idx_to_remove))"
   ],
   "metadata": {
    "collapsed": false,
    "pycharm": {
     "name": "#%%\n"
    }
   }
  },
  {
   "cell_type": "code",
   "execution_count": 14,
   "outputs": [
    {
     "data": {
      "text/plain": "       image_id dx   age   sex localization\n0  ISIC_0027419  0  80.0  male        scalp\n1  ISIC_0025030  0  80.0  male        scalp\n2  ISIC_0026769  0  80.0  male        scalp\n3  ISIC_0025661  0  80.0  male        scalp\n4  ISIC_0031633  0  75.0  male          ear",
      "text/html": "<div>\n<style scoped>\n    .dataframe tbody tr th:only-of-type {\n        vertical-align: middle;\n    }\n\n    .dataframe tbody tr th {\n        vertical-align: top;\n    }\n\n    .dataframe thead th {\n        text-align: right;\n    }\n</style>\n<table border=\"1\" class=\"dataframe\">\n  <thead>\n    <tr style=\"text-align: right;\">\n      <th></th>\n      <th>image_id</th>\n      <th>dx</th>\n      <th>age</th>\n      <th>sex</th>\n      <th>localization</th>\n    </tr>\n  </thead>\n  <tbody>\n    <tr>\n      <th>0</th>\n      <td>ISIC_0027419</td>\n      <td>0</td>\n      <td>80.0</td>\n      <td>male</td>\n      <td>scalp</td>\n    </tr>\n    <tr>\n      <th>1</th>\n      <td>ISIC_0025030</td>\n      <td>0</td>\n      <td>80.0</td>\n      <td>male</td>\n      <td>scalp</td>\n    </tr>\n    <tr>\n      <th>2</th>\n      <td>ISIC_0026769</td>\n      <td>0</td>\n      <td>80.0</td>\n      <td>male</td>\n      <td>scalp</td>\n    </tr>\n    <tr>\n      <th>3</th>\n      <td>ISIC_0025661</td>\n      <td>0</td>\n      <td>80.0</td>\n      <td>male</td>\n      <td>scalp</td>\n    </tr>\n    <tr>\n      <th>4</th>\n      <td>ISIC_0031633</td>\n      <td>0</td>\n      <td>75.0</td>\n      <td>male</td>\n      <td>ear</td>\n    </tr>\n  </tbody>\n</table>\n</div>"
     },
     "execution_count": 14,
     "metadata": {},
     "output_type": "execute_result"
    }
   ],
   "source": [
    "ham_data.head()"
   ],
   "metadata": {
    "collapsed": false,
    "pycharm": {
     "name": "#%%\n"
    }
   }
  },
  {
   "cell_type": "code",
   "execution_count": 15,
   "outputs": [],
   "source": [
    "ham_data.to_csv(\"../dataset/raw/newfile3.csv\")"
   ],
   "metadata": {
    "collapsed": false,
    "pycharm": {
     "name": "#%%\n"
    }
   }
  },
  {
   "cell_type": "code",
   "execution_count": 7,
   "outputs": [],
   "source": [
    "isic_img_path=\"../dataset/raw/ISIC 2020/train\""
   ],
   "metadata": {
    "collapsed": false,
    "pycharm": {
     "name": "#%%\n"
    }
   }
  },
  {
   "cell_type": "code",
   "execution_count": 8,
   "outputs": [],
   "source": [
    "isic_path=\"../dataset/raw/ISIC 2020/ISIC_2020_Training_GroundTruth.csv\""
   ],
   "metadata": {
    "collapsed": false,
    "pycharm": {
     "name": "#%%\n"
    }
   }
  },
  {
   "cell_type": "code",
   "execution_count": 9,
   "outputs": [],
   "source": [
    "isic=pd.read_csv(isic_path)"
   ],
   "metadata": {
    "collapsed": false,
    "pycharm": {
     "name": "#%%\n"
    }
   }
  },
  {
   "cell_type": "code",
   "execution_count": 10,
   "outputs": [
    {
     "data": {
      "text/plain": "     image_name  target     sex  age_approx anatom_site_general_challenge\n0  ISIC_2637011       0    male        45.0                     head/neck\n1  ISIC_0015719       0  female        45.0               upper extremity\n2  ISIC_0052212       0  female        50.0               lower extremity\n3  ISIC_0068279       0  female        45.0                     head/neck\n4  ISIC_0074268       0  female        55.0               upper extremity",
      "text/html": "<div>\n<style scoped>\n    .dataframe tbody tr th:only-of-type {\n        vertical-align: middle;\n    }\n\n    .dataframe tbody tr th {\n        vertical-align: top;\n    }\n\n    .dataframe thead th {\n        text-align: right;\n    }\n</style>\n<table border=\"1\" class=\"dataframe\">\n  <thead>\n    <tr style=\"text-align: right;\">\n      <th></th>\n      <th>image_name</th>\n      <th>target</th>\n      <th>sex</th>\n      <th>age_approx</th>\n      <th>anatom_site_general_challenge</th>\n    </tr>\n  </thead>\n  <tbody>\n    <tr>\n      <th>0</th>\n      <td>ISIC_2637011</td>\n      <td>0</td>\n      <td>male</td>\n      <td>45.0</td>\n      <td>head/neck</td>\n    </tr>\n    <tr>\n      <th>1</th>\n      <td>ISIC_0015719</td>\n      <td>0</td>\n      <td>female</td>\n      <td>45.0</td>\n      <td>upper extremity</td>\n    </tr>\n    <tr>\n      <th>2</th>\n      <td>ISIC_0052212</td>\n      <td>0</td>\n      <td>female</td>\n      <td>50.0</td>\n      <td>lower extremity</td>\n    </tr>\n    <tr>\n      <th>3</th>\n      <td>ISIC_0068279</td>\n      <td>0</td>\n      <td>female</td>\n      <td>45.0</td>\n      <td>head/neck</td>\n    </tr>\n    <tr>\n      <th>4</th>\n      <td>ISIC_0074268</td>\n      <td>0</td>\n      <td>female</td>\n      <td>55.0</td>\n      <td>upper extremity</td>\n    </tr>\n  </tbody>\n</table>\n</div>"
     },
     "execution_count": 10,
     "metadata": {},
     "output_type": "execute_result"
    }
   ],
   "source": [
    "isic.head()\n"
   ],
   "metadata": {
    "collapsed": false,
    "pycharm": {
     "name": "#%%\n"
    }
   }
  },
  {
   "cell_type": "code",
   "execution_count": 11,
   "outputs": [],
   "source": [
    "isic=isic.dropna()"
   ],
   "metadata": {
    "collapsed": false,
    "pycharm": {
     "name": "#%%\n"
    }
   }
  },
  {
   "cell_type": "code",
   "execution_count": 12,
   "outputs": [
    {
     "data": {
      "text/plain": "     image_name  target     sex  age_approx anatom_site_general_challenge\n0  ISIC_2637011       0    male        45.0                     head/neck\n1  ISIC_0015719       0  female        45.0               upper extremity\n2  ISIC_0052212       0  female        50.0               lower extremity\n3  ISIC_0068279       0  female        45.0                     head/neck\n4  ISIC_0074268       0  female        55.0               upper extremity",
      "text/html": "<div>\n<style scoped>\n    .dataframe tbody tr th:only-of-type {\n        vertical-align: middle;\n    }\n\n    .dataframe tbody tr th {\n        vertical-align: top;\n    }\n\n    .dataframe thead th {\n        text-align: right;\n    }\n</style>\n<table border=\"1\" class=\"dataframe\">\n  <thead>\n    <tr style=\"text-align: right;\">\n      <th></th>\n      <th>image_name</th>\n      <th>target</th>\n      <th>sex</th>\n      <th>age_approx</th>\n      <th>anatom_site_general_challenge</th>\n    </tr>\n  </thead>\n  <tbody>\n    <tr>\n      <th>0</th>\n      <td>ISIC_2637011</td>\n      <td>0</td>\n      <td>male</td>\n      <td>45.0</td>\n      <td>head/neck</td>\n    </tr>\n    <tr>\n      <th>1</th>\n      <td>ISIC_0015719</td>\n      <td>0</td>\n      <td>female</td>\n      <td>45.0</td>\n      <td>upper extremity</td>\n    </tr>\n    <tr>\n      <th>2</th>\n      <td>ISIC_0052212</td>\n      <td>0</td>\n      <td>female</td>\n      <td>50.0</td>\n      <td>lower extremity</td>\n    </tr>\n    <tr>\n      <th>3</th>\n      <td>ISIC_0068279</td>\n      <td>0</td>\n      <td>female</td>\n      <td>45.0</td>\n      <td>head/neck</td>\n    </tr>\n    <tr>\n      <th>4</th>\n      <td>ISIC_0074268</td>\n      <td>0</td>\n      <td>female</td>\n      <td>55.0</td>\n      <td>upper extremity</td>\n    </tr>\n  </tbody>\n</table>\n</div>"
     },
     "execution_count": 12,
     "metadata": {},
     "output_type": "execute_result"
    }
   ],
   "source": [
    "isic.head()"
   ],
   "metadata": {
    "collapsed": false,
    "pycharm": {
     "name": "#%%\n"
    }
   }
  },
  {
   "cell_type": "code",
   "execution_count": 13,
   "outputs": [
    {
     "name": "stdout",
     "output_type": "stream",
     "text": [
      "['image_name', 'target', 'sex', 'age_approx', 'anatom_site_general_challenge']\n"
     ]
    }
   ],
   "source": [
    "c= list(isic.columns.values)\n",
    "print(c)"
   ],
   "metadata": {
    "collapsed": false,
    "pycharm": {
     "name": "#%%\n"
    }
   }
  },
  {
   "cell_type": "code",
   "execution_count": 13,
   "outputs": [],
   "source": [],
   "metadata": {
    "collapsed": false,
    "pycharm": {
     "name": "#%%\n"
    }
   }
  },
  {
   "cell_type": "code",
   "execution_count": 14,
   "outputs": [],
   "source": [
    "isic.rename(columns={'image_name':'image_id','target':'dx','age_approx':'age' ,'anatom_site_general_challenge':'localization'},inplace=True)"
   ],
   "metadata": {
    "collapsed": false,
    "pycharm": {
     "name": "#%%\n"
    }
   }
  },
  {
   "cell_type": "code",
   "execution_count": 15,
   "outputs": [
    {
     "data": {
      "text/plain": "       image_id  dx     sex   age     localization\n0  ISIC_2637011   0    male  45.0        head/neck\n1  ISIC_0015719   0  female  45.0  upper extremity\n2  ISIC_0052212   0  female  50.0  lower extremity\n3  ISIC_0068279   0  female  45.0        head/neck\n4  ISIC_0074268   0  female  55.0  upper extremity",
      "text/html": "<div>\n<style scoped>\n    .dataframe tbody tr th:only-of-type {\n        vertical-align: middle;\n    }\n\n    .dataframe tbody tr th {\n        vertical-align: top;\n    }\n\n    .dataframe thead th {\n        text-align: right;\n    }\n</style>\n<table border=\"1\" class=\"dataframe\">\n  <thead>\n    <tr style=\"text-align: right;\">\n      <th></th>\n      <th>image_id</th>\n      <th>dx</th>\n      <th>sex</th>\n      <th>age</th>\n      <th>localization</th>\n    </tr>\n  </thead>\n  <tbody>\n    <tr>\n      <th>0</th>\n      <td>ISIC_2637011</td>\n      <td>0</td>\n      <td>male</td>\n      <td>45.0</td>\n      <td>head/neck</td>\n    </tr>\n    <tr>\n      <th>1</th>\n      <td>ISIC_0015719</td>\n      <td>0</td>\n      <td>female</td>\n      <td>45.0</td>\n      <td>upper extremity</td>\n    </tr>\n    <tr>\n      <th>2</th>\n      <td>ISIC_0052212</td>\n      <td>0</td>\n      <td>female</td>\n      <td>50.0</td>\n      <td>lower extremity</td>\n    </tr>\n    <tr>\n      <th>3</th>\n      <td>ISIC_0068279</td>\n      <td>0</td>\n      <td>female</td>\n      <td>45.0</td>\n      <td>head/neck</td>\n    </tr>\n    <tr>\n      <th>4</th>\n      <td>ISIC_0074268</td>\n      <td>0</td>\n      <td>female</td>\n      <td>55.0</td>\n      <td>upper extremity</td>\n    </tr>\n  </tbody>\n</table>\n</div>"
     },
     "execution_count": 15,
     "metadata": {},
     "output_type": "execute_result"
    }
   ],
   "source": [
    "isic.head()"
   ],
   "metadata": {
    "collapsed": false,
    "pycharm": {
     "name": "#%%\n"
    }
   }
  },
  {
   "cell_type": "code",
   "execution_count": 14,
   "outputs": [
    {
     "data": {
      "text/plain": "Counter({'male': 16788, 'female': 15743})"
     },
     "execution_count": 14,
     "metadata": {},
     "output_type": "execute_result"
    }
   ],
   "source": [
    "Counter(isic['sex'])"
   ],
   "metadata": {
    "collapsed": false,
    "pycharm": {
     "name": "#%%\n"
    }
   }
  },
  {
   "cell_type": "code",
   "execution_count": 15,
   "outputs": [
    {
     "data": {
      "text/plain": "Counter({45.0: 4286,\n         50.0: 4224,\n         55.0: 3785,\n         40.0: 3531,\n         25.0: 1523,\n         35.0: 2802,\n         30.0: 2318,\n         75.0: 974,\n         70.0: 1949,\n         65.0: 2500,\n         60.0: 3201,\n         80.0: 416,\n         20.0: 642,\n         85.0: 149,\n         15.0: 132,\n         90.0: 80,\n         10.0: 17,\n         0.0: 2})"
     },
     "execution_count": 15,
     "metadata": {},
     "output_type": "execute_result"
    }
   ],
   "source": [
    "Counter(isic['age_approx'])"
   ],
   "metadata": {
    "collapsed": false,
    "pycharm": {
     "name": "#%%\n"
    }
   }
  },
  {
   "cell_type": "code",
   "execution_count": 16,
   "outputs": [
    {
     "data": {
      "text/plain": "Counter({0: 31956, 1: 575})"
     },
     "execution_count": 16,
     "metadata": {},
     "output_type": "execute_result"
    }
   ],
   "source": [
    "Counter(isic['target'])"
   ],
   "metadata": {
    "collapsed": false,
    "pycharm": {
     "name": "#%%\n"
    }
   }
  },
  {
   "cell_type": "code",
   "execution_count": 17,
   "outputs": [
    {
     "data": {
      "text/plain": "Counter({'head/neck': 1845,\n         'upper extremity': 4963,\n         'lower extremity': 8399,\n         'torso': 16825,\n         'palms/soles': 375,\n         'oral/genital': 124})"
     },
     "execution_count": 17,
     "metadata": {},
     "output_type": "execute_result"
    }
   ],
   "source": [
    "Counter(isic['anatom_site_general_challenge'])"
   ],
   "metadata": {
    "collapsed": false,
    "pycharm": {
     "name": "#%%\n"
    }
   }
  },
  {
   "cell_type": "code",
   "execution_count": null,
   "outputs": [],
   "source": [
    "for i in range(len(isic)):\n",
    "    if isic.iloc[0][4]==1:\n"
   ],
   "metadata": {
    "collapsed": false,
    "pycharm": {
     "name": "#%%\n"
    }
   }
  },
  {
   "cell_type": "markdown",
   "source": [
    "#Last Dataset\n"
   ],
   "metadata": {
    "collapsed": false,
    "pycharm": {
     "name": "#%% md\n"
    }
   }
  },
  {
   "cell_type": "code",
   "execution_count": 5,
   "outputs": [],
   "source": [
    "raw_images_path=\"../dataset/raw/all_images\"\n",
    "all_images_csv_path=\"../dataset/raw/all_data.csv\""
   ],
   "metadata": {
    "collapsed": false,
    "pycharm": {
     "name": "#%%\n"
    }
   }
  },
  {
   "cell_type": "code",
   "execution_count": 6,
   "outputs": [],
   "source": [
    "dataset=pd.read_csv(all_images_csv_path)"
   ],
   "metadata": {
    "collapsed": false,
    "pycharm": {
     "name": "#%%\n"
    }
   }
  },
  {
   "cell_type": "code",
   "execution_count": 7,
   "outputs": [],
   "source": [
    "dataset=dataset.dropna()"
   ],
   "metadata": {
    "collapsed": false,
    "pycharm": {
     "name": "#%%\n"
    }
   }
  },
  {
   "cell_type": "code",
   "execution_count": 8,
   "outputs": [],
   "source": [
    "loc=pd.get_dummies(dataset['location '],prefix=\"locatin\", drop_first=False)\n",
    "dataset = pd.concat([dataset, loc], axis=1)"
   ],
   "metadata": {
    "collapsed": false,
    "pycharm": {
     "name": "#%%\n"
    }
   }
  },
  {
   "cell_type": "code",
   "execution_count": 9,
   "outputs": [],
   "source": [
    "gender=pd.get_dummies(dataset['gender'],prefix=\"gender\", drop_first=False)\n",
    "dataset = pd.concat([dataset, gender], axis=1)"
   ],
   "metadata": {
    "collapsed": false,
    "pycharm": {
     "name": "#%%\n"
    }
   }
  },
  {
   "cell_type": "code",
   "execution_count": 10,
   "outputs": [
    {
     "data": {
      "text/plain": "Counter({0: 42641, 1: 2497})"
     },
     "execution_count": 10,
     "metadata": {},
     "output_type": "execute_result"
    }
   ],
   "source": [
    "dataset.shape\n",
    "Counter(dataset['target'])"
   ],
   "metadata": {
    "collapsed": false,
    "pycharm": {
     "name": "#%%\n"
    }
   }
  },
  {
   "cell_type": "code",
   "execution_count": 11,
   "outputs": [
    {
     "data": {
      "text/plain": "         image name  target   age  gender        location   locatin_abdomen  \\\n0      ISIC_2637011       0  45.0    male        head/neck                0   \n1      ISIC_0015719       0  45.0  female  upper extremity                0   \n2      ISIC_0052212       0  50.0  female  lower extremity                0   \n3      ISIC_0068279       0  45.0  female        head/neck                0   \n4      ISIC_0074268       0  55.0  female  upper extremity                0   \n...             ...     ...   ...     ...              ...              ...   \n45754  ISIC_0062247       0  55.0  female        head/neck                0   \n45755  ISIC_0062257       0  75.0    male        head/neck                0   \n45756  ISIC_0062258       0  85.0    male  upper extremity                0   \n45757  ISIC_0062300       0  80.0    male        head/neck                0   \n45758  ISIC_0062309       0  55.0    male   anterior torso                0   \n\n       locatin_acral  locatin_anterior torso  locatin_back  locatin_chest  \\\n0                  0                       0             0              0   \n1                  0                       0             0              0   \n2                  0                       0             0              0   \n3                  0                       0             0              0   \n4                  0                       0             0              0   \n...              ...                     ...           ...            ...   \n45754              0                       0             0              0   \n45755              0                       0             0              0   \n45756              0                       0             0              0   \n45757              0                       0             0              0   \n45758              0                       1             0              0   \n\n       ...  locatin_neck  locatin_oral/genital  locatin_palms/soles  \\\n0      ...             0                     0                    0   \n1      ...             0                     0                    0   \n2      ...             0                     0                    0   \n3      ...             0                     0                    0   \n4      ...             0                     0                    0   \n...    ...           ...                   ...                  ...   \n45754  ...             0                     0                    0   \n45755  ...             0                     0                    0   \n45756  ...             0                     0                    0   \n45757  ...             0                     0                    0   \n45758  ...             0                     0                    0   \n\n       locatin_posterior torso  locatin_scalp  locatin_torso  locatin_trunk  \\\n0                            0              0              0              0   \n1                            0              0              0              0   \n2                            0              0              0              0   \n3                            0              0              0              0   \n4                            0              0              0              0   \n...                        ...            ...            ...            ...   \n45754                        0              0              0              0   \n45755                        0              0              0              0   \n45756                        0              0              0              0   \n45757                        0              0              0              0   \n45758                        0              0              0              0   \n\n       locatin_upper extremity  gender_female  gender_male  \n0                            0              0            1  \n1                            1              1            0  \n2                            0              1            0  \n3                            0              1            0  \n4                            1              1            0  \n...                        ...            ...          ...  \n45754                        0              1            0  \n45755                        0              0            1  \n45756                        1              0            1  \n45757                        0              0            1  \n45758                        0              0            1  \n\n[45138 rows x 28 columns]",
      "text/html": "<div>\n<style scoped>\n    .dataframe tbody tr th:only-of-type {\n        vertical-align: middle;\n    }\n\n    .dataframe tbody tr th {\n        vertical-align: top;\n    }\n\n    .dataframe thead th {\n        text-align: right;\n    }\n</style>\n<table border=\"1\" class=\"dataframe\">\n  <thead>\n    <tr style=\"text-align: right;\">\n      <th></th>\n      <th>image name</th>\n      <th>target</th>\n      <th>age</th>\n      <th>gender</th>\n      <th>location</th>\n      <th>locatin_abdomen</th>\n      <th>locatin_acral</th>\n      <th>locatin_anterior torso</th>\n      <th>locatin_back</th>\n      <th>locatin_chest</th>\n      <th>...</th>\n      <th>locatin_neck</th>\n      <th>locatin_oral/genital</th>\n      <th>locatin_palms/soles</th>\n      <th>locatin_posterior torso</th>\n      <th>locatin_scalp</th>\n      <th>locatin_torso</th>\n      <th>locatin_trunk</th>\n      <th>locatin_upper extremity</th>\n      <th>gender_female</th>\n      <th>gender_male</th>\n    </tr>\n  </thead>\n  <tbody>\n    <tr>\n      <th>0</th>\n      <td>ISIC_2637011</td>\n      <td>0</td>\n      <td>45.0</td>\n      <td>male</td>\n      <td>head/neck</td>\n      <td>0</td>\n      <td>0</td>\n      <td>0</td>\n      <td>0</td>\n      <td>0</td>\n      <td>...</td>\n      <td>0</td>\n      <td>0</td>\n      <td>0</td>\n      <td>0</td>\n      <td>0</td>\n      <td>0</td>\n      <td>0</td>\n      <td>0</td>\n      <td>0</td>\n      <td>1</td>\n    </tr>\n    <tr>\n      <th>1</th>\n      <td>ISIC_0015719</td>\n      <td>0</td>\n      <td>45.0</td>\n      <td>female</td>\n      <td>upper extremity</td>\n      <td>0</td>\n      <td>0</td>\n      <td>0</td>\n      <td>0</td>\n      <td>0</td>\n      <td>...</td>\n      <td>0</td>\n      <td>0</td>\n      <td>0</td>\n      <td>0</td>\n      <td>0</td>\n      <td>0</td>\n      <td>0</td>\n      <td>1</td>\n      <td>1</td>\n      <td>0</td>\n    </tr>\n    <tr>\n      <th>2</th>\n      <td>ISIC_0052212</td>\n      <td>0</td>\n      <td>50.0</td>\n      <td>female</td>\n      <td>lower extremity</td>\n      <td>0</td>\n      <td>0</td>\n      <td>0</td>\n      <td>0</td>\n      <td>0</td>\n      <td>...</td>\n      <td>0</td>\n      <td>0</td>\n      <td>0</td>\n      <td>0</td>\n      <td>0</td>\n      <td>0</td>\n      <td>0</td>\n      <td>0</td>\n      <td>1</td>\n      <td>0</td>\n    </tr>\n    <tr>\n      <th>3</th>\n      <td>ISIC_0068279</td>\n      <td>0</td>\n      <td>45.0</td>\n      <td>female</td>\n      <td>head/neck</td>\n      <td>0</td>\n      <td>0</td>\n      <td>0</td>\n      <td>0</td>\n      <td>0</td>\n      <td>...</td>\n      <td>0</td>\n      <td>0</td>\n      <td>0</td>\n      <td>0</td>\n      <td>0</td>\n      <td>0</td>\n      <td>0</td>\n      <td>0</td>\n      <td>1</td>\n      <td>0</td>\n    </tr>\n    <tr>\n      <th>4</th>\n      <td>ISIC_0074268</td>\n      <td>0</td>\n      <td>55.0</td>\n      <td>female</td>\n      <td>upper extremity</td>\n      <td>0</td>\n      <td>0</td>\n      <td>0</td>\n      <td>0</td>\n      <td>0</td>\n      <td>...</td>\n      <td>0</td>\n      <td>0</td>\n      <td>0</td>\n      <td>0</td>\n      <td>0</td>\n      <td>0</td>\n      <td>0</td>\n      <td>1</td>\n      <td>1</td>\n      <td>0</td>\n    </tr>\n    <tr>\n      <th>...</th>\n      <td>...</td>\n      <td>...</td>\n      <td>...</td>\n      <td>...</td>\n      <td>...</td>\n      <td>...</td>\n      <td>...</td>\n      <td>...</td>\n      <td>...</td>\n      <td>...</td>\n      <td>...</td>\n      <td>...</td>\n      <td>...</td>\n      <td>...</td>\n      <td>...</td>\n      <td>...</td>\n      <td>...</td>\n      <td>...</td>\n      <td>...</td>\n      <td>...</td>\n      <td>...</td>\n    </tr>\n    <tr>\n      <th>45754</th>\n      <td>ISIC_0062247</td>\n      <td>0</td>\n      <td>55.0</td>\n      <td>female</td>\n      <td>head/neck</td>\n      <td>0</td>\n      <td>0</td>\n      <td>0</td>\n      <td>0</td>\n      <td>0</td>\n      <td>...</td>\n      <td>0</td>\n      <td>0</td>\n      <td>0</td>\n      <td>0</td>\n      <td>0</td>\n      <td>0</td>\n      <td>0</td>\n      <td>0</td>\n      <td>1</td>\n      <td>0</td>\n    </tr>\n    <tr>\n      <th>45755</th>\n      <td>ISIC_0062257</td>\n      <td>0</td>\n      <td>75.0</td>\n      <td>male</td>\n      <td>head/neck</td>\n      <td>0</td>\n      <td>0</td>\n      <td>0</td>\n      <td>0</td>\n      <td>0</td>\n      <td>...</td>\n      <td>0</td>\n      <td>0</td>\n      <td>0</td>\n      <td>0</td>\n      <td>0</td>\n      <td>0</td>\n      <td>0</td>\n      <td>0</td>\n      <td>0</td>\n      <td>1</td>\n    </tr>\n    <tr>\n      <th>45756</th>\n      <td>ISIC_0062258</td>\n      <td>0</td>\n      <td>85.0</td>\n      <td>male</td>\n      <td>upper extremity</td>\n      <td>0</td>\n      <td>0</td>\n      <td>0</td>\n      <td>0</td>\n      <td>0</td>\n      <td>...</td>\n      <td>0</td>\n      <td>0</td>\n      <td>0</td>\n      <td>0</td>\n      <td>0</td>\n      <td>0</td>\n      <td>0</td>\n      <td>1</td>\n      <td>0</td>\n      <td>1</td>\n    </tr>\n    <tr>\n      <th>45757</th>\n      <td>ISIC_0062300</td>\n      <td>0</td>\n      <td>80.0</td>\n      <td>male</td>\n      <td>head/neck</td>\n      <td>0</td>\n      <td>0</td>\n      <td>0</td>\n      <td>0</td>\n      <td>0</td>\n      <td>...</td>\n      <td>0</td>\n      <td>0</td>\n      <td>0</td>\n      <td>0</td>\n      <td>0</td>\n      <td>0</td>\n      <td>0</td>\n      <td>0</td>\n      <td>0</td>\n      <td>1</td>\n    </tr>\n    <tr>\n      <th>45758</th>\n      <td>ISIC_0062309</td>\n      <td>0</td>\n      <td>55.0</td>\n      <td>male</td>\n      <td>anterior torso</td>\n      <td>0</td>\n      <td>0</td>\n      <td>1</td>\n      <td>0</td>\n      <td>0</td>\n      <td>...</td>\n      <td>0</td>\n      <td>0</td>\n      <td>0</td>\n      <td>0</td>\n      <td>0</td>\n      <td>0</td>\n      <td>0</td>\n      <td>0</td>\n      <td>0</td>\n      <td>1</td>\n    </tr>\n  </tbody>\n</table>\n<p>45138 rows × 28 columns</p>\n</div>"
     },
     "execution_count": 11,
     "metadata": {},
     "output_type": "execute_result"
    }
   ],
   "source": [
    "dataset"
   ],
   "metadata": {
    "collapsed": false,
    "pycharm": {
     "name": "#%%\n"
    }
   }
  },
  {
   "cell_type": "code",
   "execution_count": 12,
   "outputs": [],
   "source": [
    "del dataset['gender']\n",
    "\n"
   ],
   "metadata": {
    "collapsed": false,
    "pycharm": {
     "name": "#%%\n"
    }
   }
  },
  {
   "cell_type": "code",
   "execution_count": 12,
   "outputs": [
    {
     "data": {
      "text/plain": "     image name  target   age        location   locatin_abdomen  \\\n0  ISIC_2637011       0  45.0        head/neck                0   \n1  ISIC_0015719       0  45.0  upper extremity                0   \n2  ISIC_0052212       0  50.0  lower extremity                0   \n3  ISIC_0068279       0  45.0        head/neck                0   \n4  ISIC_0074268       0  55.0  upper extremity                0   \n\n   locatin_acral  locatin_anterior torso  locatin_back  locatin_chest  \\\n0              0                       0             0              0   \n1              0                       0             0              0   \n2              0                       0             0              0   \n3              0                       0             0              0   \n4              0                       0             0              0   \n\n   locatin_ear  ...  locatin_neck  locatin_oral/genital  locatin_palms/soles  \\\n0            0  ...             0                     0                    0   \n1            0  ...             0                     0                    0   \n2            0  ...             0                     0                    0   \n3            0  ...             0                     0                    0   \n4            0  ...             0                     0                    0   \n\n   locatin_posterior torso  locatin_scalp  locatin_torso  locatin_trunk  \\\n0                        0              0              0              0   \n1                        0              0              0              0   \n2                        0              0              0              0   \n3                        0              0              0              0   \n4                        0              0              0              0   \n\n   locatin_upper extremity  gender_female  gender_male  \n0                        0              0            1  \n1                        1              1            0  \n2                        0              1            0  \n3                        0              1            0  \n4                        1              1            0  \n\n[5 rows x 27 columns]",
      "text/html": "<div>\n<style scoped>\n    .dataframe tbody tr th:only-of-type {\n        vertical-align: middle;\n    }\n\n    .dataframe tbody tr th {\n        vertical-align: top;\n    }\n\n    .dataframe thead th {\n        text-align: right;\n    }\n</style>\n<table border=\"1\" class=\"dataframe\">\n  <thead>\n    <tr style=\"text-align: right;\">\n      <th></th>\n      <th>image name</th>\n      <th>target</th>\n      <th>age</th>\n      <th>location</th>\n      <th>locatin_abdomen</th>\n      <th>locatin_acral</th>\n      <th>locatin_anterior torso</th>\n      <th>locatin_back</th>\n      <th>locatin_chest</th>\n      <th>locatin_ear</th>\n      <th>...</th>\n      <th>locatin_neck</th>\n      <th>locatin_oral/genital</th>\n      <th>locatin_palms/soles</th>\n      <th>locatin_posterior torso</th>\n      <th>locatin_scalp</th>\n      <th>locatin_torso</th>\n      <th>locatin_trunk</th>\n      <th>locatin_upper extremity</th>\n      <th>gender_female</th>\n      <th>gender_male</th>\n    </tr>\n  </thead>\n  <tbody>\n    <tr>\n      <th>0</th>\n      <td>ISIC_2637011</td>\n      <td>0</td>\n      <td>45.0</td>\n      <td>head/neck</td>\n      <td>0</td>\n      <td>0</td>\n      <td>0</td>\n      <td>0</td>\n      <td>0</td>\n      <td>0</td>\n      <td>...</td>\n      <td>0</td>\n      <td>0</td>\n      <td>0</td>\n      <td>0</td>\n      <td>0</td>\n      <td>0</td>\n      <td>0</td>\n      <td>0</td>\n      <td>0</td>\n      <td>1</td>\n    </tr>\n    <tr>\n      <th>1</th>\n      <td>ISIC_0015719</td>\n      <td>0</td>\n      <td>45.0</td>\n      <td>upper extremity</td>\n      <td>0</td>\n      <td>0</td>\n      <td>0</td>\n      <td>0</td>\n      <td>0</td>\n      <td>0</td>\n      <td>...</td>\n      <td>0</td>\n      <td>0</td>\n      <td>0</td>\n      <td>0</td>\n      <td>0</td>\n      <td>0</td>\n      <td>0</td>\n      <td>1</td>\n      <td>1</td>\n      <td>0</td>\n    </tr>\n    <tr>\n      <th>2</th>\n      <td>ISIC_0052212</td>\n      <td>0</td>\n      <td>50.0</td>\n      <td>lower extremity</td>\n      <td>0</td>\n      <td>0</td>\n      <td>0</td>\n      <td>0</td>\n      <td>0</td>\n      <td>0</td>\n      <td>...</td>\n      <td>0</td>\n      <td>0</td>\n      <td>0</td>\n      <td>0</td>\n      <td>0</td>\n      <td>0</td>\n      <td>0</td>\n      <td>0</td>\n      <td>1</td>\n      <td>0</td>\n    </tr>\n    <tr>\n      <th>3</th>\n      <td>ISIC_0068279</td>\n      <td>0</td>\n      <td>45.0</td>\n      <td>head/neck</td>\n      <td>0</td>\n      <td>0</td>\n      <td>0</td>\n      <td>0</td>\n      <td>0</td>\n      <td>0</td>\n      <td>...</td>\n      <td>0</td>\n      <td>0</td>\n      <td>0</td>\n      <td>0</td>\n      <td>0</td>\n      <td>0</td>\n      <td>0</td>\n      <td>0</td>\n      <td>1</td>\n      <td>0</td>\n    </tr>\n    <tr>\n      <th>4</th>\n      <td>ISIC_0074268</td>\n      <td>0</td>\n      <td>55.0</td>\n      <td>upper extremity</td>\n      <td>0</td>\n      <td>0</td>\n      <td>0</td>\n      <td>0</td>\n      <td>0</td>\n      <td>0</td>\n      <td>...</td>\n      <td>0</td>\n      <td>0</td>\n      <td>0</td>\n      <td>0</td>\n      <td>0</td>\n      <td>0</td>\n      <td>0</td>\n      <td>1</td>\n      <td>1</td>\n      <td>0</td>\n    </tr>\n  </tbody>\n</table>\n<p>5 rows × 27 columns</p>\n</div>"
     },
     "execution_count": 12,
     "metadata": {},
     "output_type": "execute_result"
    }
   ],
   "source": [
    "dataset.head()"
   ],
   "metadata": {
    "collapsed": false,
    "pycharm": {
     "name": "#%%\n"
    }
   }
  },
  {
   "cell_type": "code",
   "execution_count": 13,
   "outputs": [],
   "source": [
    "del dataset['location ']"
   ],
   "metadata": {
    "collapsed": false,
    "pycharm": {
     "name": "#%%\n"
    }
   }
  },
  {
   "cell_type": "code",
   "execution_count": 14,
   "outputs": [],
   "source": [
    "train_all_data,test_all_data=train_test_split(dataset)"
   ],
   "metadata": {
    "collapsed": false,
    "pycharm": {
     "name": "#%%\n"
    }
   }
  },
  {
   "cell_type": "code",
   "execution_count": 16,
   "outputs": [],
   "source": [
    "train_all_data.to_csv(\"../dataset/preprocessed/all_train.csv\",index=False)\n",
    "test_all_data.to_csv(\"../dataset/preprocessed/all_test.csv\",index=False)"
   ],
   "metadata": {
    "collapsed": false,
    "pycharm": {
     "name": "#%%\n"
    }
   }
  },
  {
   "cell_type": "code",
   "execution_count": null,
   "outputs": [],
   "source": [],
   "metadata": {
    "collapsed": false,
    "pycharm": {
     "name": "#%%\n"
    }
   }
  },
  {
   "cell_type": "code",
   "execution_count": null,
   "outputs": [],
   "source": [],
   "metadata": {
    "collapsed": false,
    "pycharm": {
     "name": "#%%\n"
    }
   }
  },
  {
   "cell_type": "code",
   "execution_count": null,
   "outputs": [],
   "source": [],
   "metadata": {
    "collapsed": false,
    "pycharm": {
     "name": "#%%\n"
    }
   }
  },
  {
   "cell_type": "code",
   "execution_count": null,
   "outputs": [],
   "source": [],
   "metadata": {
    "collapsed": false,
    "pycharm": {
     "name": "#%%\n"
    }
   }
  },
  {
   "cell_type": "markdown",
   "source": [],
   "metadata": {
    "collapsed": false,
    "pycharm": {
     "name": "#%% md\n"
    }
   }
  },
  {
   "cell_type": "markdown",
   "source": [
    "ashr7y 3mlty eh"
   ],
   "metadata": {
    "collapsed": false,
    "pycharm": {
     "name": "#%% md\n"
    }
   }
  },
  {
   "cell_type": "code",
   "execution_count": 19,
   "outputs": [
    {
     "ename": "NameError",
     "evalue": "name 'ham_data_csv_preprocessing' is not defined",
     "output_type": "error",
     "traceback": [
      "\u001B[1;31m---------------------------------------------------------------------------\u001B[0m",
      "\u001B[1;31mNameError\u001B[0m                                 Traceback (most recent call last)",
      "Input \u001B[1;32mIn [19]\u001B[0m, in \u001B[0;36m<cell line: 1>\u001B[1;34m()\u001B[0m\n\u001B[1;32m----> 1\u001B[0m preprocessed_data\u001B[38;5;241m=\u001B[39m\u001B[43mham_data_csv_preprocessing\u001B[49m(raw_data_csv_path)\n",
      "\u001B[1;31mNameError\u001B[0m: name 'ham_data_csv_preprocessing' is not defined"
     ]
    }
   ],
   "source": [
    "preprocessed_data=ham_data_csv_preprocessing(raw_data_csv_path)"
   ],
   "metadata": {
    "collapsed": false,
    "pycharm": {
     "name": "#%%\n"
    }
   }
  },
  {
   "cell_type": "code",
   "execution_count": 10,
   "outputs": [
    {
     "data": {
      "text/plain": "       image_id dx   age  localization_abdomen  localization_acral  \\\n0  ISIC_0027419  0  80.0                     0                   0   \n1  ISIC_0025030  0  80.0                     0                   0   \n2  ISIC_0026769  0  80.0                     0                   0   \n3  ISIC_0025661  0  80.0                     0                   0   \n4  ISIC_0031633  0  75.0                     0                   0   \n\n   localization_back  localization_chest  localization_ear  localization_face  \\\n0                  0                   0                 0                  0   \n1                  0                   0                 0                  0   \n2                  0                   0                 0                  0   \n3                  0                   0                 0                  0   \n4                  0                   0                 1                  0   \n\n   localization_foot  localization_genital  localization_hand  \\\n0                  0                     0                  0   \n1                  0                     0                  0   \n2                  0                     0                  0   \n3                  0                     0                  0   \n4                  0                     0                  0   \n\n   localization_lower extremity  localization_neck  localization_scalp  \\\n0                             0                  0                   1   \n1                             0                  0                   1   \n2                             0                  0                   1   \n3                             0                  0                   1   \n4                             0                  0                   0   \n\n   localization_trunk  localization_upper extremity  sex_female  sex_male  \n0                   0                             0           0         1  \n1                   0                             0           0         1  \n2                   0                             0           0         1  \n3                   0                             0           0         1  \n4                   0                             0           0         1  ",
      "text/html": "<div>\n<style scoped>\n    .dataframe tbody tr th:only-of-type {\n        vertical-align: middle;\n    }\n\n    .dataframe tbody tr th {\n        vertical-align: top;\n    }\n\n    .dataframe thead th {\n        text-align: right;\n    }\n</style>\n<table border=\"1\" class=\"dataframe\">\n  <thead>\n    <tr style=\"text-align: right;\">\n      <th></th>\n      <th>image_id</th>\n      <th>dx</th>\n      <th>age</th>\n      <th>localization_abdomen</th>\n      <th>localization_acral</th>\n      <th>localization_back</th>\n      <th>localization_chest</th>\n      <th>localization_ear</th>\n      <th>localization_face</th>\n      <th>localization_foot</th>\n      <th>localization_genital</th>\n      <th>localization_hand</th>\n      <th>localization_lower extremity</th>\n      <th>localization_neck</th>\n      <th>localization_scalp</th>\n      <th>localization_trunk</th>\n      <th>localization_upper extremity</th>\n      <th>sex_female</th>\n      <th>sex_male</th>\n    </tr>\n  </thead>\n  <tbody>\n    <tr>\n      <th>0</th>\n      <td>ISIC_0027419</td>\n      <td>0</td>\n      <td>80.0</td>\n      <td>0</td>\n      <td>0</td>\n      <td>0</td>\n      <td>0</td>\n      <td>0</td>\n      <td>0</td>\n      <td>0</td>\n      <td>0</td>\n      <td>0</td>\n      <td>0</td>\n      <td>0</td>\n      <td>1</td>\n      <td>0</td>\n      <td>0</td>\n      <td>0</td>\n      <td>1</td>\n    </tr>\n    <tr>\n      <th>1</th>\n      <td>ISIC_0025030</td>\n      <td>0</td>\n      <td>80.0</td>\n      <td>0</td>\n      <td>0</td>\n      <td>0</td>\n      <td>0</td>\n      <td>0</td>\n      <td>0</td>\n      <td>0</td>\n      <td>0</td>\n      <td>0</td>\n      <td>0</td>\n      <td>0</td>\n      <td>1</td>\n      <td>0</td>\n      <td>0</td>\n      <td>0</td>\n      <td>1</td>\n    </tr>\n    <tr>\n      <th>2</th>\n      <td>ISIC_0026769</td>\n      <td>0</td>\n      <td>80.0</td>\n      <td>0</td>\n      <td>0</td>\n      <td>0</td>\n      <td>0</td>\n      <td>0</td>\n      <td>0</td>\n      <td>0</td>\n      <td>0</td>\n      <td>0</td>\n      <td>0</td>\n      <td>0</td>\n      <td>1</td>\n      <td>0</td>\n      <td>0</td>\n      <td>0</td>\n      <td>1</td>\n    </tr>\n    <tr>\n      <th>3</th>\n      <td>ISIC_0025661</td>\n      <td>0</td>\n      <td>80.0</td>\n      <td>0</td>\n      <td>0</td>\n      <td>0</td>\n      <td>0</td>\n      <td>0</td>\n      <td>0</td>\n      <td>0</td>\n      <td>0</td>\n      <td>0</td>\n      <td>0</td>\n      <td>0</td>\n      <td>1</td>\n      <td>0</td>\n      <td>0</td>\n      <td>0</td>\n      <td>1</td>\n    </tr>\n    <tr>\n      <th>4</th>\n      <td>ISIC_0031633</td>\n      <td>0</td>\n      <td>75.0</td>\n      <td>0</td>\n      <td>0</td>\n      <td>0</td>\n      <td>0</td>\n      <td>1</td>\n      <td>0</td>\n      <td>0</td>\n      <td>0</td>\n      <td>0</td>\n      <td>0</td>\n      <td>0</td>\n      <td>0</td>\n      <td>0</td>\n      <td>0</td>\n      <td>0</td>\n      <td>1</td>\n    </tr>\n  </tbody>\n</table>\n</div>"
     },
     "execution_count": 10,
     "metadata": {},
     "output_type": "execute_result"
    }
   ],
   "source": [
    "preprocessed_data.head()\n",
    "\n",
    "#Counter(preprocessed_data['dx'])"
   ],
   "metadata": {
    "collapsed": false,
    "pycharm": {
     "name": "#%%\n"
    }
   }
  },
  {
   "cell_type": "code",
   "execution_count": null,
   "outputs": [],
   "source": [],
   "metadata": {
    "collapsed": false,
    "pycharm": {
     "name": "#%%\n"
    }
   }
  },
  {
   "cell_type": "code",
   "execution_count": 7,
   "outputs": [
    {
     "data": {
      "text/plain": "(9761, 19)"
     },
     "execution_count": 7,
     "metadata": {},
     "output_type": "execute_result"
    }
   ],
   "source": [
    "preprocessed_data.shape"
   ],
   "metadata": {
    "collapsed": false,
    "pycharm": {
     "name": "#%%\n"
    }
   }
  },
  {
   "cell_type": "code",
   "execution_count": 8,
   "outputs": [
    {
     "data": {
      "text/plain": "Counter({0: 8660, 1: 1101})"
     },
     "execution_count": 8,
     "metadata": {},
     "output_type": "execute_result"
    }
   ],
   "source": [
    "Counter(preprocessed_data['dx'])"
   ],
   "metadata": {
    "collapsed": false,
    "pycharm": {
     "name": "#%%\n"
    }
   }
  },
  {
   "cell_type": "code",
   "execution_count": 9,
   "outputs": [
    {
     "data": {
      "text/plain": "age                             80.0\nlocalization_abdomen               0\nlocalization_acral                 0\nlocalization_back                  0\nlocalization_chest                 0\nlocalization_ear                   0\nlocalization_face                  0\nlocalization_foot                  0\nlocalization_genital               0\nlocalization_hand                  0\nlocalization_lower extremity       0\nlocalization_neck                  0\nlocalization_scalp                 1\nlocalization_trunk                 0\nlocalization_upper extremity       0\nsex_female                         0\nsex_male                           1\nName: 0, dtype: object"
     },
     "execution_count": 9,
     "metadata": {},
     "output_type": "execute_result"
    }
   ],
   "source": [
    "preprocessed_data.iloc[0][2:]"
   ],
   "metadata": {
    "collapsed": false,
    "pycharm": {
     "name": "#%%\n"
    }
   }
  },
  {
   "cell_type": "code",
   "execution_count": 12,
   "outputs": [],
   "source": [
    "train,test=train_test_split(preprocessed_data)\n"
   ],
   "metadata": {
    "collapsed": false,
    "pycharm": {
     "name": "#%%\n"
    }
   }
  },
  {
   "cell_type": "code",
   "execution_count": 13,
   "outputs": [],
   "source": [
    "train.to_csv(\"../dataset/preprocessed/ham1000_train.csv\",index=False)\n",
    "test.to_csv(\"../dataset/preprocessed/ham1000_test.csv\",index=False)"
   ],
   "metadata": {
    "collapsed": false,
    "pycharm": {
     "name": "#%%\n"
    }
   }
  },
  {
   "cell_type": "code",
   "execution_count": 14,
   "outputs": [
    {
     "data": {
      "text/plain": "          image_id dx   age  localization_abdomen  localization_acral  \\\n844   ISIC_0028094  0  70.0                     0                   0   \n4547  ISIC_0029816  0  35.0                     0                   0   \n6692  ISIC_0028988  0  25.0                     0                   0   \n2936  ISIC_0028687  0  80.0                     0                   0   \n7420  ISIC_0033014  0  40.0                     0                   0   \n\n      localization_back  localization_chest  localization_ear  \\\n844                   0                   0                 0   \n4547                  0                   0                 0   \n6692                  0                   0                 0   \n2936                  0                   0                 0   \n7420                  1                   0                 0   \n\n      localization_face  localization_foot  localization_genital  \\\n844                   1                  0                     0   \n4547                  0                  0                     0   \n6692                  0                  0                     0   \n2936                  0                  0                     0   \n7420                  0                  0                     0   \n\n      localization_hand  localization_lower extremity  localization_neck  \\\n844                   0                             0                  0   \n4547                  0                             1                  0   \n6692                  0                             0                  0   \n2936                  0                             1                  0   \n7420                  0                             0                  0   \n\n      localization_scalp  localization_trunk  localization_upper extremity  \\\n844                    0                   0                             0   \n4547                   0                   0                             0   \n6692                   0                   0                             1   \n2936                   0                   0                             0   \n7420                   0                   0                             0   \n\n      sex_female  sex_male  \n844            0         1  \n4547           0         1  \n6692           0         1  \n2936           1         0  \n7420           0         1  ",
      "text/html": "<div>\n<style scoped>\n    .dataframe tbody tr th:only-of-type {\n        vertical-align: middle;\n    }\n\n    .dataframe tbody tr th {\n        vertical-align: top;\n    }\n\n    .dataframe thead th {\n        text-align: right;\n    }\n</style>\n<table border=\"1\" class=\"dataframe\">\n  <thead>\n    <tr style=\"text-align: right;\">\n      <th></th>\n      <th>image_id</th>\n      <th>dx</th>\n      <th>age</th>\n      <th>localization_abdomen</th>\n      <th>localization_acral</th>\n      <th>localization_back</th>\n      <th>localization_chest</th>\n      <th>localization_ear</th>\n      <th>localization_face</th>\n      <th>localization_foot</th>\n      <th>localization_genital</th>\n      <th>localization_hand</th>\n      <th>localization_lower extremity</th>\n      <th>localization_neck</th>\n      <th>localization_scalp</th>\n      <th>localization_trunk</th>\n      <th>localization_upper extremity</th>\n      <th>sex_female</th>\n      <th>sex_male</th>\n    </tr>\n  </thead>\n  <tbody>\n    <tr>\n      <th>844</th>\n      <td>ISIC_0028094</td>\n      <td>0</td>\n      <td>70.0</td>\n      <td>0</td>\n      <td>0</td>\n      <td>0</td>\n      <td>0</td>\n      <td>0</td>\n      <td>1</td>\n      <td>0</td>\n      <td>0</td>\n      <td>0</td>\n      <td>0</td>\n      <td>0</td>\n      <td>0</td>\n      <td>0</td>\n      <td>0</td>\n      <td>0</td>\n      <td>1</td>\n    </tr>\n    <tr>\n      <th>4547</th>\n      <td>ISIC_0029816</td>\n      <td>0</td>\n      <td>35.0</td>\n      <td>0</td>\n      <td>0</td>\n      <td>0</td>\n      <td>0</td>\n      <td>0</td>\n      <td>0</td>\n      <td>0</td>\n      <td>0</td>\n      <td>0</td>\n      <td>1</td>\n      <td>0</td>\n      <td>0</td>\n      <td>0</td>\n      <td>0</td>\n      <td>0</td>\n      <td>1</td>\n    </tr>\n    <tr>\n      <th>6692</th>\n      <td>ISIC_0028988</td>\n      <td>0</td>\n      <td>25.0</td>\n      <td>0</td>\n      <td>0</td>\n      <td>0</td>\n      <td>0</td>\n      <td>0</td>\n      <td>0</td>\n      <td>0</td>\n      <td>0</td>\n      <td>0</td>\n      <td>0</td>\n      <td>0</td>\n      <td>0</td>\n      <td>0</td>\n      <td>1</td>\n      <td>0</td>\n      <td>1</td>\n    </tr>\n    <tr>\n      <th>2936</th>\n      <td>ISIC_0028687</td>\n      <td>0</td>\n      <td>80.0</td>\n      <td>0</td>\n      <td>0</td>\n      <td>0</td>\n      <td>0</td>\n      <td>0</td>\n      <td>0</td>\n      <td>0</td>\n      <td>0</td>\n      <td>0</td>\n      <td>1</td>\n      <td>0</td>\n      <td>0</td>\n      <td>0</td>\n      <td>0</td>\n      <td>1</td>\n      <td>0</td>\n    </tr>\n    <tr>\n      <th>7420</th>\n      <td>ISIC_0033014</td>\n      <td>0</td>\n      <td>40.0</td>\n      <td>0</td>\n      <td>0</td>\n      <td>1</td>\n      <td>0</td>\n      <td>0</td>\n      <td>0</td>\n      <td>0</td>\n      <td>0</td>\n      <td>0</td>\n      <td>0</td>\n      <td>0</td>\n      <td>0</td>\n      <td>0</td>\n      <td>0</td>\n      <td>0</td>\n      <td>1</td>\n    </tr>\n  </tbody>\n</table>\n</div>"
     },
     "execution_count": 14,
     "metadata": {},
     "output_type": "execute_result"
    }
   ],
   "source": [
    "train.head()"
   ],
   "metadata": {
    "collapsed": false,
    "pycharm": {
     "name": "#%%\n"
    }
   }
  },
  {
   "cell_type": "code",
   "execution_count": 16,
   "outputs": [
    {
     "data": {
      "text/plain": "Counter({0: 6506, 1: 814})"
     },
     "execution_count": 16,
     "metadata": {},
     "output_type": "execute_result"
    }
   ],
   "source": [
    "Counter(train['dx'])"
   ],
   "metadata": {
    "collapsed": false,
    "pycharm": {
     "name": "#%%\n"
    }
   }
  },
  {
   "cell_type": "markdown",
   "source": [
    "# Combine menlanoma ana bengin dataset for features extractor model"
   ],
   "metadata": {
    "collapsed": false,
    "pycharm": {
     "name": "#%% md\n"
    }
   }
  },
  {
   "cell_type": "code",
   "execution_count": 7,
   "outputs": [],
   "source": [
    "melanoma_folder_path=\"../dataset/preprocessed/mel_combined_dataset/melanoma\"\n",
    "bengin_folder_path=\"../dataset/preprocessed/mel_combined_dataset/bengin\""
   ],
   "metadata": {
    "collapsed": false,
    "pycharm": {
     "name": "#%%\n"
    }
   }
  },
  {
   "cell_type": "code",
   "execution_count": 16,
   "outputs": [],
   "source": [
    "\n",
    "\n",
    "for i in range(len(preprocessed_data)):\n",
    "    img_name,label=preprocessed_data.iloc[i][0],preprocessed_data.iloc[i][1]\n",
    "    if label==1:\n",
    "        copyfile_to_dir(f\"{ham_img_dataset_path}/{img_name}.jpg\",melanoma_folder_path)\n",
    "    else:\n",
    "        copyfile_to_dir(f\"{ham_img_dataset_path}/{img_name}.jpg\",bengin_folder_path)"
   ],
   "metadata": {
    "collapsed": false,
    "pycharm": {
     "name": "#%%\n"
    }
   }
  },
  {
   "cell_type": "code",
   "execution_count": 6,
   "outputs": [],
   "source": [
    "combined_path=\"../dataset/preprocessed/mel_combined_dataset\""
   ],
   "metadata": {
    "collapsed": false,
    "pycharm": {
     "name": "#%%\n"
    }
   }
  },
  {
   "cell_type": "code",
   "execution_count": 4,
   "outputs": [],
   "source": [
    "train_transform=transforms.Compose([transforms.ToTensor(),transforms.RandomHorizontalFlip(),transforms.RandomRotation(10),Normalize()])\n"
   ],
   "metadata": {
    "collapsed": false,
    "pycharm": {
     "name": "#%%\n"
    }
   }
  },
  {
   "cell_type": "code",
   "execution_count": 8,
   "outputs": [],
   "source": [
    "combined_data=MelanomaDataset(combined_path,{\"melanoma\":1,\"bengin\":0},train_transform)"
   ],
   "metadata": {
    "collapsed": false,
    "pycharm": {
     "name": "#%%\n"
    }
   }
  },
  {
   "cell_type": "code",
   "execution_count": 6,
   "outputs": [],
   "source": [
    "train_melanoma,test_melanoma=train_test_split()"
   ],
   "metadata": {
    "collapsed": false,
    "pycharm": {
     "name": "#%%\n"
    }
   }
  },
  {
   "cell_type": "markdown",
   "source": [
    "# Split features model Dataset\n",
    " 1. create Dataframe has all melanoma and non-melanoma images\n",
    " 2. save csv file containts img_name and it's label\n",
    " 3. copy all images in one folder\n",
    " 4. split data to train-datafram and test-dataframe\n",
    " 5. save train_df and test_df to csv file"
   ],
   "metadata": {
    "collapsed": false,
    "pycharm": {
     "name": "#%% md\n"
    }
   }
  },
  {
   "cell_type": "code",
   "execution_count": 6,
   "outputs": [
    {
     "name": "stdout",
     "output_type": "stream",
     "text": [
      "['bengin', 'melanoma']\n"
     ]
    }
   ],
   "source": [
    "raw_dataset_path=\"../dataset/preprocessed/mel_combined_dataset\"\n",
    "clases=os.listdir(raw_dataset_path)\n",
    "print(clases)\n"
   ],
   "metadata": {
    "collapsed": false,
    "pycharm": {
     "name": "#%%\n"
    }
   }
  },
  {
   "cell_type": "code",
   "execution_count": 15,
   "outputs": [],
   "source": [
    "full_dataset_rows=[]\n",
    "new_full_imgs_folder=f\"{raw_dataset_path}/images\"\n",
    "os.mkdir(new_full_imgs_folder)"
   ],
   "metadata": {
    "collapsed": false,
    "pycharm": {
     "name": "#%%\n"
    }
   }
  },
  {
   "cell_type": "code",
   "execution_count": 18,
   "outputs": [],
   "source": [
    "for cl in clases:\n",
    "    img_list=os.listdir(f\"{raw_dataset_path}/{cl}\")\n",
    "    class_label=0\n",
    "    if cl == \"melanoma\":\n",
    "        class_label=1\n",
    "    for img_name in img_list:\n",
    "        full_dataset_rows.append([img_name,class_label])\n",
    "        copyfile_to_dir(f\"{raw_dataset_path}/{cl}/{img_name}\",new_full_imgs_folder)\n"
   ],
   "metadata": {
    "collapsed": false,
    "pycharm": {
     "name": "#%%\n"
    }
   }
  },
  {
   "cell_type": "code",
   "execution_count": 21,
   "outputs": [],
   "source": [
    "import random\n",
    "random.shuffle(full_dataset_rows)\n",
    "full_data_df=pd.DataFrame(full_dataset_rows,columns=[\"Image Name\",\"Label\"])"
   ],
   "metadata": {
    "collapsed": false,
    "pycharm": {
     "name": "#%%\n"
    }
   }
  },
  {
   "cell_type": "code",
   "execution_count": 22,
   "outputs": [
    {
     "data": {
      "text/plain": "              Image Name  Label\n0        AUG_0_5069.jpeg      1\n1       ISIC_0030671.jpg      0\n2       ISIC_0027768.jpg      0\n3  AUGmented_0_3964.jpeg      1\n4       ISIC_0032306.jpg      0",
      "text/html": "<div>\n<style scoped>\n    .dataframe tbody tr th:only-of-type {\n        vertical-align: middle;\n    }\n\n    .dataframe tbody tr th {\n        vertical-align: top;\n    }\n\n    .dataframe thead th {\n        text-align: right;\n    }\n</style>\n<table border=\"1\" class=\"dataframe\">\n  <thead>\n    <tr style=\"text-align: right;\">\n      <th></th>\n      <th>Image Name</th>\n      <th>Label</th>\n    </tr>\n  </thead>\n  <tbody>\n    <tr>\n      <th>0</th>\n      <td>AUG_0_5069.jpeg</td>\n      <td>1</td>\n    </tr>\n    <tr>\n      <th>1</th>\n      <td>ISIC_0030671.jpg</td>\n      <td>0</td>\n    </tr>\n    <tr>\n      <th>2</th>\n      <td>ISIC_0027768.jpg</td>\n      <td>0</td>\n    </tr>\n    <tr>\n      <th>3</th>\n      <td>AUGmented_0_3964.jpeg</td>\n      <td>1</td>\n    </tr>\n    <tr>\n      <th>4</th>\n      <td>ISIC_0032306.jpg</td>\n      <td>0</td>\n    </tr>\n  </tbody>\n</table>\n</div>"
     },
     "execution_count": 22,
     "metadata": {},
     "output_type": "execute_result"
    }
   ],
   "source": [
    "full_data_df.head()\n"
   ],
   "metadata": {
    "collapsed": false,
    "pycharm": {
     "name": "#%%\n"
    }
   }
  },
  {
   "cell_type": "code",
   "execution_count": 29,
   "outputs": [],
   "source": [
    "train_df,test_df=train_test_split(full_data_df)"
   ],
   "metadata": {
    "collapsed": false,
    "pycharm": {
     "name": "#%%\n"
    }
   }
  },
  {
   "cell_type": "code",
   "execution_count": 30,
   "outputs": [
    {
     "data": {
      "text/plain": "Image Name    12873\nLabel         12873\ndtype: int64"
     },
     "execution_count": 30,
     "metadata": {},
     "output_type": "execute_result"
    }
   ],
   "source": [
    "train.count()"
   ],
   "metadata": {
    "collapsed": false,
    "pycharm": {
     "name": "#%%\n"
    }
   }
  },
  {
   "cell_type": "code",
   "execution_count": 32,
   "outputs": [
    {
     "data": {
      "text/plain": "       Image Name\nLabel            \n0            6454\n1            6419",
      "text/html": "<div>\n<style scoped>\n    .dataframe tbody tr th:only-of-type {\n        vertical-align: middle;\n    }\n\n    .dataframe tbody tr th {\n        vertical-align: top;\n    }\n\n    .dataframe thead th {\n        text-align: right;\n    }\n</style>\n<table border=\"1\" class=\"dataframe\">\n  <thead>\n    <tr style=\"text-align: right;\">\n      <th></th>\n      <th>Image Name</th>\n    </tr>\n    <tr>\n      <th>Label</th>\n      <th></th>\n    </tr>\n  </thead>\n  <tbody>\n    <tr>\n      <th>0</th>\n      <td>6454</td>\n    </tr>\n    <tr>\n      <th>1</th>\n      <td>6419</td>\n    </tr>\n  </tbody>\n</table>\n</div>"
     },
     "execution_count": 32,
     "metadata": {},
     "output_type": "execute_result"
    }
   ],
   "source": [
    "train.groupby('Label').count()"
   ],
   "metadata": {
    "collapsed": false,
    "pycharm": {
     "name": "#%%\n"
    }
   }
  },
  {
   "cell_type": "code",
   "execution_count": 31,
   "outputs": [
    {
     "data": {
      "text/plain": "Image Name    4291\nLabel         4291\ndtype: int64"
     },
     "execution_count": 31,
     "metadata": {},
     "output_type": "execute_result"
    }
   ],
   "source": [
    "test_df.count()"
   ],
   "metadata": {
    "collapsed": false,
    "pycharm": {
     "name": "#%%\n"
    }
   }
  },
  {
   "cell_type": "code",
   "execution_count": 33,
   "outputs": [
    {
     "data": {
      "text/plain": "       Image Name\nLabel            \n0            2171\n1            2120",
      "text/html": "<div>\n<style scoped>\n    .dataframe tbody tr th:only-of-type {\n        vertical-align: middle;\n    }\n\n    .dataframe tbody tr th {\n        vertical-align: top;\n    }\n\n    .dataframe thead th {\n        text-align: right;\n    }\n</style>\n<table border=\"1\" class=\"dataframe\">\n  <thead>\n    <tr style=\"text-align: right;\">\n      <th></th>\n      <th>Image Name</th>\n    </tr>\n    <tr>\n      <th>Label</th>\n      <th></th>\n    </tr>\n  </thead>\n  <tbody>\n    <tr>\n      <th>0</th>\n      <td>2171</td>\n    </tr>\n    <tr>\n      <th>1</th>\n      <td>2120</td>\n    </tr>\n  </tbody>\n</table>\n</div>"
     },
     "execution_count": 33,
     "metadata": {},
     "output_type": "execute_result"
    }
   ],
   "source": [
    "test_df.groupby('Label').count()"
   ],
   "metadata": {
    "collapsed": false,
    "pycharm": {
     "name": "#%%\n"
    }
   }
  },
  {
   "cell_type": "code",
   "execution_count": 34,
   "outputs": [],
   "source": [
    "train_df.to_csv(f\"{raw_dataset_path}/train.csv\",index=False)\n",
    "test_df.to_csv(f\"{raw_dataset_path}/test.csv\",index=False)"
   ],
   "metadata": {
    "collapsed": false,
    "pycharm": {
     "name": "#%%\n"
    }
   }
  },
  {
   "cell_type": "code",
   "execution_count": 10,
   "outputs": [],
   "source": [
    "full_imgs_folder=\"../dataset/raw/all_images\"\n",
    "full_imgs_prep_folder=\"../dataset/preprocessed/all_images\""
   ],
   "metadata": {
    "collapsed": false,
    "pycharm": {
     "name": "#%%\n"
    }
   }
  },
  {
   "cell_type": "code",
   "execution_count": 8,
   "outputs": [],
   "source": [
    "os.mkdir(full_imgs_prep_folder)"
   ],
   "metadata": {
    "collapsed": false,
    "pycharm": {
     "name": "#%%\n"
    }
   }
  },
  {
   "cell_type": "code",
   "execution_count": null,
   "outputs": [],
   "source": [
    "from torchvision.transforms.transforms import  Resize\n",
    "from src.dataset import data_preprocessing\n",
    "data_preprocessing(full_imgs_folder,full_imgs_prep_folder,Resize((240,240)))"
   ],
   "metadata": {
    "collapsed": false,
    "pycharm": {
     "name": "#%%\n",
     "is_executing": true
    }
   }
  },
  {
   "cell_type": "code",
   "execution_count": null,
   "outputs": [],
   "source": [],
   "metadata": {
    "collapsed": false,
    "pycharm": {
     "name": "#%%\n"
    }
   }
  }
 ],
 "metadata": {
  "kernelspec": {
   "display_name": "Python 3",
   "language": "python",
   "name": "python3"
  },
  "language_info": {
   "codemirror_mode": {
    "name": "ipython",
    "version": 2
   },
   "file_extension": ".py",
   "mimetype": "text/x-python",
   "name": "python",
   "nbconvert_exporter": "python",
   "pygments_lexer": "ipython2",
   "version": "2.7.6"
  }
 },
 "nbformat": 4,
 "nbformat_minor": 0
}
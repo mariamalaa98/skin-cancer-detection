{
 "cells": [
  {
   "cell_type": "code",
   "execution_count": 1,
   "outputs": [],
   "source": [
    "import os.path\n",
    "\n",
    "from IPython.display import display\n",
    "import  pandas as pd\n",
    "from collections import Counter\n",
    "from src.dataset import ham_data_csv_preprocessing\n",
    "from sklearn.model_selection import train_test_split"
   ],
   "metadata": {
    "collapsed": false,
    "pycharm": {
     "name": "#%%\n"
    }
   }
  },
  {
   "cell_type": "code",
   "execution_count": 2,
   "outputs": [],
   "source": [
    "raw_data_csv_path=\"../dataset/HAM10000_metadata.csv\"\n"
   ],
   "metadata": {
    "collapsed": false,
    "pycharm": {
     "name": "#%%\n"
    }
   }
  },
  {
   "cell_type": "code",
   "execution_count": 3,
   "outputs": [],
   "source": [
    "raw_data=pd.read_csv(raw_data_csv_path)\n"
   ],
   "metadata": {
    "collapsed": false,
    "pycharm": {
     "name": "#%%\n"
    }
   }
  },
  {
   "cell_type": "code",
   "execution_count": 4,
   "outputs": [
    {
     "data": {
      "text/plain": "     lesion_id      image_id   dx dx_type   age   sex localization  \\\n0  HAM_0000118  ISIC_0027419  bkl   histo  80.0  male        scalp   \n1  HAM_0000118  ISIC_0025030  bkl   histo  80.0  male        scalp   \n2  HAM_0002730  ISIC_0026769  bkl   histo  80.0  male        scalp   \n3  HAM_0002730  ISIC_0025661  bkl   histo  80.0  male        scalp   \n4  HAM_0001466  ISIC_0031633  bkl   histo  75.0  male          ear   \n\n        dataset  \n0  vidir_modern  \n1  vidir_modern  \n2  vidir_modern  \n3  vidir_modern  \n4  vidir_modern  ",
      "text/html": "<div>\n<style scoped>\n    .dataframe tbody tr th:only-of-type {\n        vertical-align: middle;\n    }\n\n    .dataframe tbody tr th {\n        vertical-align: top;\n    }\n\n    .dataframe thead th {\n        text-align: right;\n    }\n</style>\n<table border=\"1\" class=\"dataframe\">\n  <thead>\n    <tr style=\"text-align: right;\">\n      <th></th>\n      <th>lesion_id</th>\n      <th>image_id</th>\n      <th>dx</th>\n      <th>dx_type</th>\n      <th>age</th>\n      <th>sex</th>\n      <th>localization</th>\n      <th>dataset</th>\n    </tr>\n  </thead>\n  <tbody>\n    <tr>\n      <th>0</th>\n      <td>HAM_0000118</td>\n      <td>ISIC_0027419</td>\n      <td>bkl</td>\n      <td>histo</td>\n      <td>80.0</td>\n      <td>male</td>\n      <td>scalp</td>\n      <td>vidir_modern</td>\n    </tr>\n    <tr>\n      <th>1</th>\n      <td>HAM_0000118</td>\n      <td>ISIC_0025030</td>\n      <td>bkl</td>\n      <td>histo</td>\n      <td>80.0</td>\n      <td>male</td>\n      <td>scalp</td>\n      <td>vidir_modern</td>\n    </tr>\n    <tr>\n      <th>2</th>\n      <td>HAM_0002730</td>\n      <td>ISIC_0026769</td>\n      <td>bkl</td>\n      <td>histo</td>\n      <td>80.0</td>\n      <td>male</td>\n      <td>scalp</td>\n      <td>vidir_modern</td>\n    </tr>\n    <tr>\n      <th>3</th>\n      <td>HAM_0002730</td>\n      <td>ISIC_0025661</td>\n      <td>bkl</td>\n      <td>histo</td>\n      <td>80.0</td>\n      <td>male</td>\n      <td>scalp</td>\n      <td>vidir_modern</td>\n    </tr>\n    <tr>\n      <th>4</th>\n      <td>HAM_0001466</td>\n      <td>ISIC_0031633</td>\n      <td>bkl</td>\n      <td>histo</td>\n      <td>75.0</td>\n      <td>male</td>\n      <td>ear</td>\n      <td>vidir_modern</td>\n    </tr>\n  </tbody>\n</table>\n</div>"
     },
     "execution_count": 4,
     "metadata": {},
     "output_type": "execute_result"
    }
   ],
   "source": [
    "raw_data.head()"
   ],
   "metadata": {
    "collapsed": false,
    "pycharm": {
     "name": "#%%\n"
    }
   }
  },
  {
   "cell_type": "code",
   "execution_count": 17,
   "outputs": [
    {
     "data": {
      "text/plain": "Index(['lesion_id', 'image_id', 'dx', 'dx_type', 'age', 'sex', 'localization',\n       'dataset'],\n      dtype='object')"
     },
     "execution_count": 17,
     "metadata": {},
     "output_type": "execute_result"
    }
   ],
   "source": [
    "raw_data.columns"
   ],
   "metadata": {
    "collapsed": false,
    "pycharm": {
     "name": "#%%\n"
    }
   }
  },
  {
   "cell_type": "code",
   "execution_count": 6,
   "outputs": [],
   "source": [
    "non_numeric_cols=['sex', 'localization','dx']"
   ],
   "metadata": {
    "collapsed": false,
    "pycharm": {
     "name": "#%%\n"
    }
   }
  },
  {
   "cell_type": "code",
   "execution_count": 7,
   "outputs": [
    {
     "data": {
      "text/plain": "         0     1\n0     male  5406\n1   female  4552\n2  unknown    57",
      "text/html": "<div>\n<style scoped>\n    .dataframe tbody tr th:only-of-type {\n        vertical-align: middle;\n    }\n\n    .dataframe tbody tr th {\n        vertical-align: top;\n    }\n\n    .dataframe thead th {\n        text-align: right;\n    }\n</style>\n<table border=\"1\" class=\"dataframe\">\n  <thead>\n    <tr style=\"text-align: right;\">\n      <th></th>\n      <th>0</th>\n      <th>1</th>\n    </tr>\n  </thead>\n  <tbody>\n    <tr>\n      <th>0</th>\n      <td>male</td>\n      <td>5406</td>\n    </tr>\n    <tr>\n      <th>1</th>\n      <td>female</td>\n      <td>4552</td>\n    </tr>\n    <tr>\n      <th>2</th>\n      <td>unknown</td>\n      <td>57</td>\n    </tr>\n  </tbody>\n</table>\n</div>"
     },
     "metadata": {},
     "output_type": "display_data"
    },
    {
     "data": {
      "text/plain": "                  0     1\n0             scalp   128\n1               ear    56\n2              face   745\n3              back  2192\n4             trunk  1404\n5             chest   407\n6   upper extremity  1118\n7           abdomen  1022\n8           unknown   234\n9   lower extremity  2077\n10          genital    48\n11             neck   168\n12             hand    90\n13             foot   319\n14            acral     7",
      "text/html": "<div>\n<style scoped>\n    .dataframe tbody tr th:only-of-type {\n        vertical-align: middle;\n    }\n\n    .dataframe tbody tr th {\n        vertical-align: top;\n    }\n\n    .dataframe thead th {\n        text-align: right;\n    }\n</style>\n<table border=\"1\" class=\"dataframe\">\n  <thead>\n    <tr style=\"text-align: right;\">\n      <th></th>\n      <th>0</th>\n      <th>1</th>\n    </tr>\n  </thead>\n  <tbody>\n    <tr>\n      <th>0</th>\n      <td>scalp</td>\n      <td>128</td>\n    </tr>\n    <tr>\n      <th>1</th>\n      <td>ear</td>\n      <td>56</td>\n    </tr>\n    <tr>\n      <th>2</th>\n      <td>face</td>\n      <td>745</td>\n    </tr>\n    <tr>\n      <th>3</th>\n      <td>back</td>\n      <td>2192</td>\n    </tr>\n    <tr>\n      <th>4</th>\n      <td>trunk</td>\n      <td>1404</td>\n    </tr>\n    <tr>\n      <th>5</th>\n      <td>chest</td>\n      <td>407</td>\n    </tr>\n    <tr>\n      <th>6</th>\n      <td>upper extremity</td>\n      <td>1118</td>\n    </tr>\n    <tr>\n      <th>7</th>\n      <td>abdomen</td>\n      <td>1022</td>\n    </tr>\n    <tr>\n      <th>8</th>\n      <td>unknown</td>\n      <td>234</td>\n    </tr>\n    <tr>\n      <th>9</th>\n      <td>lower extremity</td>\n      <td>2077</td>\n    </tr>\n    <tr>\n      <th>10</th>\n      <td>genital</td>\n      <td>48</td>\n    </tr>\n    <tr>\n      <th>11</th>\n      <td>neck</td>\n      <td>168</td>\n    </tr>\n    <tr>\n      <th>12</th>\n      <td>hand</td>\n      <td>90</td>\n    </tr>\n    <tr>\n      <th>13</th>\n      <td>foot</td>\n      <td>319</td>\n    </tr>\n    <tr>\n      <th>14</th>\n      <td>acral</td>\n      <td>7</td>\n    </tr>\n  </tbody>\n</table>\n</div>"
     },
     "metadata": {},
     "output_type": "display_data"
    },
    {
     "data": {
      "text/plain": "       0     1\n0    bkl  1099\n1     nv  6705\n2     df   115\n3    mel  1113\n4   vasc   142\n5    bcc   514\n6  akiec   327",
      "text/html": "<div>\n<style scoped>\n    .dataframe tbody tr th:only-of-type {\n        vertical-align: middle;\n    }\n\n    .dataframe tbody tr th {\n        vertical-align: top;\n    }\n\n    .dataframe thead th {\n        text-align: right;\n    }\n</style>\n<table border=\"1\" class=\"dataframe\">\n  <thead>\n    <tr style=\"text-align: right;\">\n      <th></th>\n      <th>0</th>\n      <th>1</th>\n    </tr>\n  </thead>\n  <tbody>\n    <tr>\n      <th>0</th>\n      <td>bkl</td>\n      <td>1099</td>\n    </tr>\n    <tr>\n      <th>1</th>\n      <td>nv</td>\n      <td>6705</td>\n    </tr>\n    <tr>\n      <th>2</th>\n      <td>df</td>\n      <td>115</td>\n    </tr>\n    <tr>\n      <th>3</th>\n      <td>mel</td>\n      <td>1113</td>\n    </tr>\n    <tr>\n      <th>4</th>\n      <td>vasc</td>\n      <td>142</td>\n    </tr>\n    <tr>\n      <th>5</th>\n      <td>bcc</td>\n      <td>514</td>\n    </tr>\n    <tr>\n      <th>6</th>\n      <td>akiec</td>\n      <td>327</td>\n    </tr>\n  </tbody>\n</table>\n</div>"
     },
     "metadata": {},
     "output_type": "display_data"
    }
   ],
   "source": [
    "for col in non_numeric_cols:\n",
    "    display(pd.DataFrame(Counter(raw_data[col]).items()))"
   ],
   "metadata": {
    "collapsed": false,
    "pycharm": {
     "name": "#%%\n"
    }
   }
  },
  {
   "cell_type": "markdown",
   "source": [
    "ashr7y 3mlty eh"
   ],
   "metadata": {
    "collapsed": false,
    "pycharm": {
     "name": "#%% md\n"
    }
   }
  },
  {
   "cell_type": "code",
   "execution_count": 5,
   "outputs": [],
   "source": [
    "preprocessed_data=ham_data_csv_preprocessing(raw_data_csv_path)"
   ],
   "metadata": {
    "collapsed": false,
    "pycharm": {
     "name": "#%%\n"
    }
   }
  },
  {
   "cell_type": "code",
   "execution_count": 6,
   "outputs": [
    {
     "data": {
      "text/plain": "       image_id dx   age  localization_abdomen  localization_acral  \\\n0  ISIC_0027419  0  80.0                     0                   0   \n1  ISIC_0025030  0  80.0                     0                   0   \n2  ISIC_0026769  0  80.0                     0                   0   \n3  ISIC_0025661  0  80.0                     0                   0   \n4  ISIC_0031633  0  75.0                     0                   0   \n\n   localization_back  localization_chest  localization_ear  localization_face  \\\n0                  0                   0                 0                  0   \n1                  0                   0                 0                  0   \n2                  0                   0                 0                  0   \n3                  0                   0                 0                  0   \n4                  0                   0                 1                  0   \n\n   localization_foot  localization_genital  localization_hand  \\\n0                  0                     0                  0   \n1                  0                     0                  0   \n2                  0                     0                  0   \n3                  0                     0                  0   \n4                  0                     0                  0   \n\n   localization_lower extremity  localization_neck  localization_scalp  \\\n0                             0                  0                   1   \n1                             0                  0                   1   \n2                             0                  0                   1   \n3                             0                  0                   1   \n4                             0                  0                   0   \n\n   localization_trunk  localization_upper extremity  sex_female  sex_male  \n0                   0                             0           0         1  \n1                   0                             0           0         1  \n2                   0                             0           0         1  \n3                   0                             0           0         1  \n4                   0                             0           0         1  ",
      "text/html": "<div>\n<style scoped>\n    .dataframe tbody tr th:only-of-type {\n        vertical-align: middle;\n    }\n\n    .dataframe tbody tr th {\n        vertical-align: top;\n    }\n\n    .dataframe thead th {\n        text-align: right;\n    }\n</style>\n<table border=\"1\" class=\"dataframe\">\n  <thead>\n    <tr style=\"text-align: right;\">\n      <th></th>\n      <th>image_id</th>\n      <th>dx</th>\n      <th>age</th>\n      <th>localization_abdomen</th>\n      <th>localization_acral</th>\n      <th>localization_back</th>\n      <th>localization_chest</th>\n      <th>localization_ear</th>\n      <th>localization_face</th>\n      <th>localization_foot</th>\n      <th>localization_genital</th>\n      <th>localization_hand</th>\n      <th>localization_lower extremity</th>\n      <th>localization_neck</th>\n      <th>localization_scalp</th>\n      <th>localization_trunk</th>\n      <th>localization_upper extremity</th>\n      <th>sex_female</th>\n      <th>sex_male</th>\n    </tr>\n  </thead>\n  <tbody>\n    <tr>\n      <th>0</th>\n      <td>ISIC_0027419</td>\n      <td>0</td>\n      <td>80.0</td>\n      <td>0</td>\n      <td>0</td>\n      <td>0</td>\n      <td>0</td>\n      <td>0</td>\n      <td>0</td>\n      <td>0</td>\n      <td>0</td>\n      <td>0</td>\n      <td>0</td>\n      <td>0</td>\n      <td>1</td>\n      <td>0</td>\n      <td>0</td>\n      <td>0</td>\n      <td>1</td>\n    </tr>\n    <tr>\n      <th>1</th>\n      <td>ISIC_0025030</td>\n      <td>0</td>\n      <td>80.0</td>\n      <td>0</td>\n      <td>0</td>\n      <td>0</td>\n      <td>0</td>\n      <td>0</td>\n      <td>0</td>\n      <td>0</td>\n      <td>0</td>\n      <td>0</td>\n      <td>0</td>\n      <td>0</td>\n      <td>1</td>\n      <td>0</td>\n      <td>0</td>\n      <td>0</td>\n      <td>1</td>\n    </tr>\n    <tr>\n      <th>2</th>\n      <td>ISIC_0026769</td>\n      <td>0</td>\n      <td>80.0</td>\n      <td>0</td>\n      <td>0</td>\n      <td>0</td>\n      <td>0</td>\n      <td>0</td>\n      <td>0</td>\n      <td>0</td>\n      <td>0</td>\n      <td>0</td>\n      <td>0</td>\n      <td>0</td>\n      <td>1</td>\n      <td>0</td>\n      <td>0</td>\n      <td>0</td>\n      <td>1</td>\n    </tr>\n    <tr>\n      <th>3</th>\n      <td>ISIC_0025661</td>\n      <td>0</td>\n      <td>80.0</td>\n      <td>0</td>\n      <td>0</td>\n      <td>0</td>\n      <td>0</td>\n      <td>0</td>\n      <td>0</td>\n      <td>0</td>\n      <td>0</td>\n      <td>0</td>\n      <td>0</td>\n      <td>0</td>\n      <td>1</td>\n      <td>0</td>\n      <td>0</td>\n      <td>0</td>\n      <td>1</td>\n    </tr>\n    <tr>\n      <th>4</th>\n      <td>ISIC_0031633</td>\n      <td>0</td>\n      <td>75.0</td>\n      <td>0</td>\n      <td>0</td>\n      <td>0</td>\n      <td>0</td>\n      <td>1</td>\n      <td>0</td>\n      <td>0</td>\n      <td>0</td>\n      <td>0</td>\n      <td>0</td>\n      <td>0</td>\n      <td>0</td>\n      <td>0</td>\n      <td>0</td>\n      <td>0</td>\n      <td>1</td>\n    </tr>\n  </tbody>\n</table>\n</div>"
     },
     "execution_count": 6,
     "metadata": {},
     "output_type": "execute_result"
    }
   ],
   "source": [
    "preprocessed_data.head()\n",
    "\n",
    "#Counter(preprocessed_data['dx'])"
   ],
   "metadata": {
    "collapsed": false,
    "pycharm": {
     "name": "#%%\n"
    }
   }
  },
  {
   "cell_type": "code",
   "execution_count": 7,
   "outputs": [
    {
     "data": {
      "text/plain": "(9761, 19)"
     },
     "execution_count": 7,
     "metadata": {},
     "output_type": "execute_result"
    }
   ],
   "source": [
    "preprocessed_data.shape"
   ],
   "metadata": {
    "collapsed": false,
    "pycharm": {
     "name": "#%%\n"
    }
   }
  },
  {
   "cell_type": "code",
   "execution_count": 8,
   "outputs": [
    {
     "data": {
      "text/plain": "Counter({0: 8660, 1: 1101})"
     },
     "execution_count": 8,
     "metadata": {},
     "output_type": "execute_result"
    }
   ],
   "source": [
    "Counter(preprocessed_data['dx'])"
   ],
   "metadata": {
    "collapsed": false,
    "pycharm": {
     "name": "#%%\n"
    }
   }
  },
  {
   "cell_type": "code",
   "execution_count": 9,
   "outputs": [
    {
     "data": {
      "text/plain": "age                             80.0\nlocalization_abdomen               0\nlocalization_acral                 0\nlocalization_back                  0\nlocalization_chest                 0\nlocalization_ear                   0\nlocalization_face                  0\nlocalization_foot                  0\nlocalization_genital               0\nlocalization_hand                  0\nlocalization_lower extremity       0\nlocalization_neck                  0\nlocalization_scalp                 1\nlocalization_trunk                 0\nlocalization_upper extremity       0\nsex_female                         0\nsex_male                           1\nName: 0, dtype: object"
     },
     "execution_count": 9,
     "metadata": {},
     "output_type": "execute_result"
    }
   ],
   "source": [
    "preprocessed_data.iloc[0][2:]"
   ],
   "metadata": {
    "collapsed": false,
    "pycharm": {
     "name": "#%%\n"
    }
   }
  },
  {
   "cell_type": "code",
   "execution_count": 12,
   "outputs": [],
   "source": [
    "train,test=train_test_split(preprocessed_data)\n"
   ],
   "metadata": {
    "collapsed": false,
    "pycharm": {
     "name": "#%%\n"
    }
   }
  },
  {
   "cell_type": "code",
   "execution_count": 13,
   "outputs": [],
   "source": [
    "train.to_csv(\"../dataset/preprocessed/ham1000_train.csv\",index=False)\n",
    "test.to_csv(\"../dataset/preprocessed/ham1000_test.csv\",index=False)"
   ],
   "metadata": {
    "collapsed": false,
    "pycharm": {
     "name": "#%%\n"
    }
   }
  },
  {
   "cell_type": "code",
   "execution_count": 14,
   "outputs": [
    {
     "data": {
      "text/plain": "          image_id dx   age  localization_abdomen  localization_acral  \\\n844   ISIC_0028094  0  70.0                     0                   0   \n4547  ISIC_0029816  0  35.0                     0                   0   \n6692  ISIC_0028988  0  25.0                     0                   0   \n2936  ISIC_0028687  0  80.0                     0                   0   \n7420  ISIC_0033014  0  40.0                     0                   0   \n\n      localization_back  localization_chest  localization_ear  \\\n844                   0                   0                 0   \n4547                  0                   0                 0   \n6692                  0                   0                 0   \n2936                  0                   0                 0   \n7420                  1                   0                 0   \n\n      localization_face  localization_foot  localization_genital  \\\n844                   1                  0                     0   \n4547                  0                  0                     0   \n6692                  0                  0                     0   \n2936                  0                  0                     0   \n7420                  0                  0                     0   \n\n      localization_hand  localization_lower extremity  localization_neck  \\\n844                   0                             0                  0   \n4547                  0                             1                  0   \n6692                  0                             0                  0   \n2936                  0                             1                  0   \n7420                  0                             0                  0   \n\n      localization_scalp  localization_trunk  localization_upper extremity  \\\n844                    0                   0                             0   \n4547                   0                   0                             0   \n6692                   0                   0                             1   \n2936                   0                   0                             0   \n7420                   0                   0                             0   \n\n      sex_female  sex_male  \n844            0         1  \n4547           0         1  \n6692           0         1  \n2936           1         0  \n7420           0         1  ",
      "text/html": "<div>\n<style scoped>\n    .dataframe tbody tr th:only-of-type {\n        vertical-align: middle;\n    }\n\n    .dataframe tbody tr th {\n        vertical-align: top;\n    }\n\n    .dataframe thead th {\n        text-align: right;\n    }\n</style>\n<table border=\"1\" class=\"dataframe\">\n  <thead>\n    <tr style=\"text-align: right;\">\n      <th></th>\n      <th>image_id</th>\n      <th>dx</th>\n      <th>age</th>\n      <th>localization_abdomen</th>\n      <th>localization_acral</th>\n      <th>localization_back</th>\n      <th>localization_chest</th>\n      <th>localization_ear</th>\n      <th>localization_face</th>\n      <th>localization_foot</th>\n      <th>localization_genital</th>\n      <th>localization_hand</th>\n      <th>localization_lower extremity</th>\n      <th>localization_neck</th>\n      <th>localization_scalp</th>\n      <th>localization_trunk</th>\n      <th>localization_upper extremity</th>\n      <th>sex_female</th>\n      <th>sex_male</th>\n    </tr>\n  </thead>\n  <tbody>\n    <tr>\n      <th>844</th>\n      <td>ISIC_0028094</td>\n      <td>0</td>\n      <td>70.0</td>\n      <td>0</td>\n      <td>0</td>\n      <td>0</td>\n      <td>0</td>\n      <td>0</td>\n      <td>1</td>\n      <td>0</td>\n      <td>0</td>\n      <td>0</td>\n      <td>0</td>\n      <td>0</td>\n      <td>0</td>\n      <td>0</td>\n      <td>0</td>\n      <td>0</td>\n      <td>1</td>\n    </tr>\n    <tr>\n      <th>4547</th>\n      <td>ISIC_0029816</td>\n      <td>0</td>\n      <td>35.0</td>\n      <td>0</td>\n      <td>0</td>\n      <td>0</td>\n      <td>0</td>\n      <td>0</td>\n      <td>0</td>\n      <td>0</td>\n      <td>0</td>\n      <td>0</td>\n      <td>1</td>\n      <td>0</td>\n      <td>0</td>\n      <td>0</td>\n      <td>0</td>\n      <td>0</td>\n      <td>1</td>\n    </tr>\n    <tr>\n      <th>6692</th>\n      <td>ISIC_0028988</td>\n      <td>0</td>\n      <td>25.0</td>\n      <td>0</td>\n      <td>0</td>\n      <td>0</td>\n      <td>0</td>\n      <td>0</td>\n      <td>0</td>\n      <td>0</td>\n      <td>0</td>\n      <td>0</td>\n      <td>0</td>\n      <td>0</td>\n      <td>0</td>\n      <td>0</td>\n      <td>1</td>\n      <td>0</td>\n      <td>1</td>\n    </tr>\n    <tr>\n      <th>2936</th>\n      <td>ISIC_0028687</td>\n      <td>0</td>\n      <td>80.0</td>\n      <td>0</td>\n      <td>0</td>\n      <td>0</td>\n      <td>0</td>\n      <td>0</td>\n      <td>0</td>\n      <td>0</td>\n      <td>0</td>\n      <td>0</td>\n      <td>1</td>\n      <td>0</td>\n      <td>0</td>\n      <td>0</td>\n      <td>0</td>\n      <td>1</td>\n      <td>0</td>\n    </tr>\n    <tr>\n      <th>7420</th>\n      <td>ISIC_0033014</td>\n      <td>0</td>\n      <td>40.0</td>\n      <td>0</td>\n      <td>0</td>\n      <td>1</td>\n      <td>0</td>\n      <td>0</td>\n      <td>0</td>\n      <td>0</td>\n      <td>0</td>\n      <td>0</td>\n      <td>0</td>\n      <td>0</td>\n      <td>0</td>\n      <td>0</td>\n      <td>0</td>\n      <td>0</td>\n      <td>1</td>\n    </tr>\n  </tbody>\n</table>\n</div>"
     },
     "execution_count": 14,
     "metadata": {},
     "output_type": "execute_result"
    }
   ],
   "source": [
    "train.head()"
   ],
   "metadata": {
    "collapsed": false,
    "pycharm": {
     "name": "#%%\n"
    }
   }
  },
  {
   "cell_type": "code",
   "execution_count": 16,
   "outputs": [
    {
     "data": {
      "text/plain": "Counter({0: 6506, 1: 814})"
     },
     "execution_count": 16,
     "metadata": {},
     "output_type": "execute_result"
    }
   ],
   "source": [
    "Counter(train['dx'])"
   ],
   "metadata": {
    "collapsed": false,
    "pycharm": {
     "name": "#%%\n"
    }
   }
  },
  {
   "cell_type": "code",
   "execution_count": null,
   "outputs": [],
   "source": [],
   "metadata": {
    "collapsed": false,
    "pycharm": {
     "name": "#%%\n"
    }
   }
  }
 ],
 "metadata": {
  "kernelspec": {
   "display_name": "Python 3",
   "language": "python",
   "name": "python3"
  },
  "language_info": {
   "codemirror_mode": {
    "name": "ipython",
    "version": 2
   },
   "file_extension": ".py",
   "mimetype": "text/x-python",
   "name": "python",
   "nbconvert_exporter": "python",
   "pygments_lexer": "ipython2",
   "version": "2.7.6"
  }
 },
 "nbformat": 4,
 "nbformat_minor": 0
}
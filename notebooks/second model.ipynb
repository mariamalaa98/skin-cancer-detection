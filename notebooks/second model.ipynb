{
 "cells": [
  {
   "cell_type": "code",
   "execution_count": 68,
   "metadata": {
    "collapsed": true
   },
   "outputs": [],
   "source": [
    "from torchvision import models, transforms,datasets\n",
    "from PIL import Image\n",
    "import  torch\n",
    "import pandas as pd\n",
    "import torch.nn as nn\n",
    "import os\n",
    "import matplotlib.pyplot as plt\n",
    "from collections import Counter\n",
    "from src.model import SkinCancerModel\n",
    "from src.dataset import MelanomaDataset,data_preprocessing,Normalize,MelanomaImageDataset\n",
    "from torch.utils.data import DataLoader\n",
    "from src import model_training\n",
    "from torch.optim import Adam\n",
    "import time\n",
    "from sklearn.model_selection import train_test_split\n",
    "torch.cuda.CUDA_LAUNCH_BLOCKING=1"
   ]
  },
  {
   "cell_type": "code",
   "execution_count": 69,
   "outputs": [],
   "source": [
    "from src.model import SkinCancerModel"
   ],
   "metadata": {
    "collapsed": false,
    "pycharm": {
     "name": "#%%\n"
    }
   }
  },
  {
   "cell_type": "code",
   "execution_count": 70,
   "outputs": [],
   "source": [
    "model_extract_feature_from_images=SkinCancerModel(True,\"efficientnet_b1\")"
   ],
   "metadata": {
    "collapsed": false,
    "pycharm": {
     "name": "#%%\n"
    }
   }
  },
  {
   "cell_type": "code",
   "execution_count": 71,
   "outputs": [],
   "source": [
    "model_extract_feature_from_images.classifier=nn.Sequential(nn.Dropout(0.25), nn.Linear(1280, 256), nn.ReLU(inplace=True), nn.Dropout(0.25),  nn.Linear(256, 128))"
   ],
   "metadata": {
    "collapsed": false,
    "pycharm": {
     "name": "#%%\n"
    }
   }
  },
  {
   "cell_type": "code",
   "execution_count": 109,
   "outputs": [
    {
     "data": {
      "text/plain": "       image_id  dx   age  sex  localization_abdomen  localization_acral  \\\n0  ISIC_0027419   0  80.0    1                     0                   0   \n1  ISIC_0025030   0  80.0    1                     0                   0   \n2  ISIC_0026769   0  80.0    1                     0                   0   \n3  ISIC_0025661   0  80.0    1                     0                   0   \n4  ISIC_0031633   0  75.0    1                     0                   0   \n\n   localization_back  localization_chest  localization_ear  localization_face  \\\n0                  0                   0                 0                  0   \n1                  0                   0                 0                  0   \n2                  0                   0                 0                  0   \n3                  0                   0                 0                  0   \n4                  0                   0                 1                  0   \n\n   localization_foot  localization_genital  localization_hand  \\\n0                  0                     0                  0   \n1                  0                     0                  0   \n2                  0                     0                  0   \n3                  0                     0                  0   \n4                  0                     0                  0   \n\n   localization_lower extremity  localization_neck  localization_scalp  \\\n0                             0                  0                   1   \n1                             0                  0                   1   \n2                             0                  0                   1   \n3                             0                  0                   1   \n4                             0                  0                   0   \n\n   localization_trunk  localization_upper extremity  \n0                   0                             0  \n1                   0                             0  \n2                   0                             0  \n3                   0                             0  \n4                   0                             0  ",
      "text/html": "<div>\n<style scoped>\n    .dataframe tbody tr th:only-of-type {\n        vertical-align: middle;\n    }\n\n    .dataframe tbody tr th {\n        vertical-align: top;\n    }\n\n    .dataframe thead th {\n        text-align: right;\n    }\n</style>\n<table border=\"1\" class=\"dataframe\">\n  <thead>\n    <tr style=\"text-align: right;\">\n      <th></th>\n      <th>image_id</th>\n      <th>dx</th>\n      <th>age</th>\n      <th>sex</th>\n      <th>localization_abdomen</th>\n      <th>localization_acral</th>\n      <th>localization_back</th>\n      <th>localization_chest</th>\n      <th>localization_ear</th>\n      <th>localization_face</th>\n      <th>localization_foot</th>\n      <th>localization_genital</th>\n      <th>localization_hand</th>\n      <th>localization_lower extremity</th>\n      <th>localization_neck</th>\n      <th>localization_scalp</th>\n      <th>localization_trunk</th>\n      <th>localization_upper extremity</th>\n    </tr>\n  </thead>\n  <tbody>\n    <tr>\n      <th>0</th>\n      <td>ISIC_0027419</td>\n      <td>0</td>\n      <td>80.0</td>\n      <td>1</td>\n      <td>0</td>\n      <td>0</td>\n      <td>0</td>\n      <td>0</td>\n      <td>0</td>\n      <td>0</td>\n      <td>0</td>\n      <td>0</td>\n      <td>0</td>\n      <td>0</td>\n      <td>0</td>\n      <td>1</td>\n      <td>0</td>\n      <td>0</td>\n    </tr>\n    <tr>\n      <th>1</th>\n      <td>ISIC_0025030</td>\n      <td>0</td>\n      <td>80.0</td>\n      <td>1</td>\n      <td>0</td>\n      <td>0</td>\n      <td>0</td>\n      <td>0</td>\n      <td>0</td>\n      <td>0</td>\n      <td>0</td>\n      <td>0</td>\n      <td>0</td>\n      <td>0</td>\n      <td>0</td>\n      <td>1</td>\n      <td>0</td>\n      <td>0</td>\n    </tr>\n    <tr>\n      <th>2</th>\n      <td>ISIC_0026769</td>\n      <td>0</td>\n      <td>80.0</td>\n      <td>1</td>\n      <td>0</td>\n      <td>0</td>\n      <td>0</td>\n      <td>0</td>\n      <td>0</td>\n      <td>0</td>\n      <td>0</td>\n      <td>0</td>\n      <td>0</td>\n      <td>0</td>\n      <td>0</td>\n      <td>1</td>\n      <td>0</td>\n      <td>0</td>\n    </tr>\n    <tr>\n      <th>3</th>\n      <td>ISIC_0025661</td>\n      <td>0</td>\n      <td>80.0</td>\n      <td>1</td>\n      <td>0</td>\n      <td>0</td>\n      <td>0</td>\n      <td>0</td>\n      <td>0</td>\n      <td>0</td>\n      <td>0</td>\n      <td>0</td>\n      <td>0</td>\n      <td>0</td>\n      <td>0</td>\n      <td>1</td>\n      <td>0</td>\n      <td>0</td>\n    </tr>\n    <tr>\n      <th>4</th>\n      <td>ISIC_0031633</td>\n      <td>0</td>\n      <td>75.0</td>\n      <td>1</td>\n      <td>0</td>\n      <td>0</td>\n      <td>0</td>\n      <td>0</td>\n      <td>1</td>\n      <td>0</td>\n      <td>0</td>\n      <td>0</td>\n      <td>0</td>\n      <td>0</td>\n      <td>0</td>\n      <td>0</td>\n      <td>0</td>\n      <td>0</td>\n    </tr>\n  </tbody>\n</table>\n</div>"
     },
     "execution_count": 109,
     "metadata": {},
     "output_type": "execute_result"
    }
   ],
   "source": [
    "data_after=pd.read_csv(\"../dataset/preprocessed/after.csv\")\n",
    "data_after.head()"
   ],
   "metadata": {
    "collapsed": false,
    "pycharm": {
     "name": "#%%\n"
    }
   }
  },
  {
   "cell_type": "code",
   "execution_count": 110,
   "outputs": [
    {
     "data": {
      "text/plain": "    age  sex  localization_abdomen  localization_acral  localization_back  \\\n0  80.0    1                     0                   0                  0   \n1  80.0    1                     0                   0                  0   \n2  80.0    1                     0                   0                  0   \n3  80.0    1                     0                   0                  0   \n4  75.0    1                     0                   0                  0   \n\n   localization_chest  localization_ear  localization_face  localization_foot  \\\n0                   0                 0                  0                  0   \n1                   0                 0                  0                  0   \n2                   0                 0                  0                  0   \n3                   0                 0                  0                  0   \n4                   0                 1                  0                  0   \n\n   localization_genital  localization_hand  localization_lower extremity  \\\n0                     0                  0                             0   \n1                     0                  0                             0   \n2                     0                  0                             0   \n3                     0                  0                             0   \n4                     0                  0                             0   \n\n   localization_neck  localization_scalp  localization_trunk  \n0                  0                   1                   0  \n1                  0                   1                   0  \n2                  0                   1                   0  \n3                  0                   1                   0  \n4                  0                   0                   0  ",
      "text/html": "<div>\n<style scoped>\n    .dataframe tbody tr th:only-of-type {\n        vertical-align: middle;\n    }\n\n    .dataframe tbody tr th {\n        vertical-align: top;\n    }\n\n    .dataframe thead th {\n        text-align: right;\n    }\n</style>\n<table border=\"1\" class=\"dataframe\">\n  <thead>\n    <tr style=\"text-align: right;\">\n      <th></th>\n      <th>age</th>\n      <th>sex</th>\n      <th>localization_abdomen</th>\n      <th>localization_acral</th>\n      <th>localization_back</th>\n      <th>localization_chest</th>\n      <th>localization_ear</th>\n      <th>localization_face</th>\n      <th>localization_foot</th>\n      <th>localization_genital</th>\n      <th>localization_hand</th>\n      <th>localization_lower extremity</th>\n      <th>localization_neck</th>\n      <th>localization_scalp</th>\n      <th>localization_trunk</th>\n    </tr>\n  </thead>\n  <tbody>\n    <tr>\n      <th>0</th>\n      <td>80.0</td>\n      <td>1</td>\n      <td>0</td>\n      <td>0</td>\n      <td>0</td>\n      <td>0</td>\n      <td>0</td>\n      <td>0</td>\n      <td>0</td>\n      <td>0</td>\n      <td>0</td>\n      <td>0</td>\n      <td>0</td>\n      <td>1</td>\n      <td>0</td>\n    </tr>\n    <tr>\n      <th>1</th>\n      <td>80.0</td>\n      <td>1</td>\n      <td>0</td>\n      <td>0</td>\n      <td>0</td>\n      <td>0</td>\n      <td>0</td>\n      <td>0</td>\n      <td>0</td>\n      <td>0</td>\n      <td>0</td>\n      <td>0</td>\n      <td>0</td>\n      <td>1</td>\n      <td>0</td>\n    </tr>\n    <tr>\n      <th>2</th>\n      <td>80.0</td>\n      <td>1</td>\n      <td>0</td>\n      <td>0</td>\n      <td>0</td>\n      <td>0</td>\n      <td>0</td>\n      <td>0</td>\n      <td>0</td>\n      <td>0</td>\n      <td>0</td>\n      <td>0</td>\n      <td>0</td>\n      <td>1</td>\n      <td>0</td>\n    </tr>\n    <tr>\n      <th>3</th>\n      <td>80.0</td>\n      <td>1</td>\n      <td>0</td>\n      <td>0</td>\n      <td>0</td>\n      <td>0</td>\n      <td>0</td>\n      <td>0</td>\n      <td>0</td>\n      <td>0</td>\n      <td>0</td>\n      <td>0</td>\n      <td>0</td>\n      <td>1</td>\n      <td>0</td>\n    </tr>\n    <tr>\n      <th>4</th>\n      <td>75.0</td>\n      <td>1</td>\n      <td>0</td>\n      <td>0</td>\n      <td>0</td>\n      <td>0</td>\n      <td>1</td>\n      <td>0</td>\n      <td>0</td>\n      <td>0</td>\n      <td>0</td>\n      <td>0</td>\n      <td>0</td>\n      <td>0</td>\n      <td>0</td>\n    </tr>\n  </tbody>\n</table>\n</div>"
     },
     "execution_count": 110,
     "metadata": {},
     "output_type": "execute_result"
    }
   ],
   "source": [
    "features=data_after.iloc[:,2:-1]\n",
    "features.head()"
   ],
   "metadata": {
    "collapsed": false,
    "pycharm": {
     "name": "#%%\n"
    }
   }
  },
  {
   "cell_type": "code",
   "execution_count": 74,
   "outputs": [
    {
     "name": "stdout",
     "output_type": "stream",
     "text": [
      "age                             80.0\n",
      "sex                              1.0\n",
      "localization_abdomen             0.0\n",
      "localization_acral               0.0\n",
      "localization_back                0.0\n",
      "localization_chest               0.0\n",
      "localization_ear                 0.0\n",
      "localization_face                0.0\n",
      "localization_foot                0.0\n",
      "localization_genital             0.0\n",
      "localization_hand                0.0\n",
      "localization_lower extremity     0.0\n",
      "localization_neck                0.0\n",
      "localization_scalp               1.0\n",
      "localization_trunk               0.0\n",
      "Name: 0, dtype: float64\n"
     ]
    }
   ],
   "source": [
    "for i in range(len(data_after)):\n",
    "        print(features.iloc[i,:])\n",
    "        break"
   ],
   "metadata": {
    "collapsed": false,
    "pycharm": {
     "name": "#%%\n"
    }
   }
  },
  {
   "cell_type": "code",
   "execution_count": 75,
   "outputs": [
    {
     "data": {
      "text/plain": "       image_id\n0  ISIC_0027419\n1  ISIC_0025030\n2  ISIC_0026769\n3  ISIC_0025661\n4  ISIC_0031633",
      "text/html": "<div>\n<style scoped>\n    .dataframe tbody tr th:only-of-type {\n        vertical-align: middle;\n    }\n\n    .dataframe tbody tr th {\n        vertical-align: top;\n    }\n\n    .dataframe thead th {\n        text-align: right;\n    }\n</style>\n<table border=\"1\" class=\"dataframe\">\n  <thead>\n    <tr style=\"text-align: right;\">\n      <th></th>\n      <th>image_id</th>\n    </tr>\n  </thead>\n  <tbody>\n    <tr>\n      <th>0</th>\n      <td>ISIC_0027419</td>\n    </tr>\n    <tr>\n      <th>1</th>\n      <td>ISIC_0025030</td>\n    </tr>\n    <tr>\n      <th>2</th>\n      <td>ISIC_0026769</td>\n    </tr>\n    <tr>\n      <th>3</th>\n      <td>ISIC_0025661</td>\n    </tr>\n    <tr>\n      <th>4</th>\n      <td>ISIC_0031633</td>\n    </tr>\n  </tbody>\n</table>\n</div>"
     },
     "execution_count": 75,
     "metadata": {},
     "output_type": "execute_result"
    }
   ],
   "source": [
    "data=data_after.iloc[:,0:1]\n",
    "data.head()\n"
   ],
   "metadata": {
    "collapsed": false,
    "pycharm": {
     "name": "#%%\n"
    }
   }
  },
  {
   "cell_type": "code",
   "execution_count": 120,
   "outputs": [
    {
     "data": {
      "text/plain": "'ISIC_0027419'"
     },
     "execution_count": 120,
     "metadata": {},
     "output_type": "execute_result"
    }
   ],
   "source": [
    "data_after.iloc[0,0]"
   ],
   "metadata": {
    "collapsed": false,
    "pycharm": {
     "name": "#%%\n"
    }
   }
  },
  {
   "cell_type": "code",
   "execution_count": 101,
   "outputs": [],
   "source": [
    "for i in range(len(data)):\n",
    "        transform=transforms.PILToTensor()\n",
    "\n",
    "        dataset_images_path=\"../dataset/preprocessed/ham1000\"\n",
    "        image_name=data_after.iloc[i,0]\n",
    "        path=f\"{dataset_images_path}/{image_name}.jpg\"\n",
    "        image= Image.open(path)\n",
    "        image=transform(image)\n",
    "        image=image.float()\n",
    "        image=torch.unsqueeze(image,0)\n",
    "\n",
    "        output_of_first_model=model_extract_feature_from_images(image)\n",
    "        break\n",
    "        ############################################################################################\n",
    "\n",
    "\n",
    "\n"
   ],
   "metadata": {
    "collapsed": false,
    "pycharm": {
     "name": "#%%\n"
    }
   }
  },
  {
   "cell_type": "code",
   "execution_count": 112,
   "outputs": [],
   "source": [
    "features_tensor=torch.tensor(features.iloc[0].to_numpy()).unsqueeze(0)\n"
   ],
   "metadata": {
    "collapsed": false,
    "pycharm": {
     "name": "#%%\n"
    }
   }
  },
  {
   "cell_type": "code",
   "execution_count": 107,
   "outputs": [
    {
     "data": {
      "text/plain": "torch.Size([1, 128])"
     },
     "execution_count": 107,
     "metadata": {},
     "output_type": "execute_result"
    }
   ],
   "source": [
    "output_of_first_model.shape"
   ],
   "metadata": {
    "collapsed": false,
    "pycharm": {
     "name": "#%%\n"
    }
   }
  },
  {
   "cell_type": "code",
   "execution_count": 113,
   "outputs": [
    {
     "data": {
      "text/plain": "torch.Size([1, 15])"
     },
     "execution_count": 113,
     "metadata": {},
     "output_type": "execute_result"
    }
   ],
   "source": [
    "features_tensor.shape"
   ],
   "metadata": {
    "collapsed": false,
    "pycharm": {
     "name": "#%%\n"
    }
   }
  },
  {
   "cell_type": "code",
   "execution_count": 105,
   "outputs": [],
   "source": [
    "features=features.unsqueeze(1)"
   ],
   "metadata": {
    "collapsed": false,
    "pycharm": {
     "name": "#%%\n"
    }
   }
  },
  {
   "cell_type": "code",
   "execution_count": 115,
   "outputs": [],
   "source": [
    "input_into_second_model=torch.cat((output_of_first_model,features_tensor),dim=1)"
   ],
   "metadata": {
    "collapsed": false,
    "pycharm": {
     "name": "#%%\n"
    }
   }
  },
  {
   "cell_type": "code",
   "execution_count": 116,
   "outputs": [
    {
     "data": {
      "text/plain": "torch.Size([1, 143])"
     },
     "execution_count": 116,
     "metadata": {},
     "output_type": "execute_result"
    }
   ],
   "source": [
    "input_into_second_model.shape"
   ],
   "metadata": {
    "collapsed": false,
    "pycharm": {
     "name": "#%%\n"
    }
   }
  },
  {
   "cell_type": "markdown",
   "source": [],
   "metadata": {
    "collapsed": false
   }
  },
  {
   "cell_type": "code",
   "execution_count": 117,
   "outputs": [],
   "source": [
    "input_into_second_model=input_into_second_model.float()"
   ],
   "metadata": {
    "collapsed": false,
    "pycharm": {
     "name": "#%%\n"
    }
   }
  },
  {
   "cell_type": "code",
   "execution_count": 90,
   "outputs": [
    {
     "data": {
      "text/plain": "torch.Size([1, 143])"
     },
     "execution_count": 90,
     "metadata": {},
     "output_type": "execute_result"
    }
   ],
   "source": [
    "input_into_second_model.size()"
   ],
   "metadata": {
    "collapsed": false,
    "pycharm": {
     "name": "#%%\n"
    }
   }
  },
  {
   "cell_type": "code",
   "execution_count": 118,
   "outputs": [],
   "source": [
    "model = nn.Sequential(nn.Linear(143, 71), nn.ReLU(),nn.Linear(71, 20), nn.ReLU(), nn.Linear(20, 1),nn.Sigmoid())"
   ],
   "metadata": {
    "collapsed": false,
    "pycharm": {
     "name": "#%%\n"
    }
   }
  },
  {
   "cell_type": "code",
   "execution_count": 119,
   "outputs": [
    {
     "data": {
      "text/plain": "tensor([[0.5241]], grad_fn=<SigmoidBackward0>)"
     },
     "execution_count": 119,
     "metadata": {},
     "output_type": "execute_result"
    }
   ],
   "source": [
    "model(input_into_second_model)"
   ],
   "metadata": {
    "collapsed": false,
    "pycharm": {
     "name": "#%%\n"
    }
   }
  },
  {
   "cell_type": "code",
   "execution_count": 56,
   "outputs": [],
   "source": [],
   "metadata": {
    "collapsed": false,
    "pycharm": {
     "name": "#%%\n"
    }
   }
  }
 ],
 "metadata": {
  "kernelspec": {
   "display_name": "Python 3",
   "language": "python",
   "name": "python3"
  },
  "language_info": {
   "codemirror_mode": {
    "name": "ipython",
    "version": 2
   },
   "file_extension": ".py",
   "mimetype": "text/x-python",
   "name": "python",
   "nbconvert_exporter": "python",
   "pygments_lexer": "ipython2",
   "version": "2.7.6"
  }
 },
 "nbformat": 4,
 "nbformat_minor": 0
}